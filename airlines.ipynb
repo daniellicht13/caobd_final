{
 "cells": [
  {
   "cell_type": "markdown",
   "metadata": {},
   "source": [
    "https://www.youtube.com/watch?v=woKYyhLCcnU"
   ]
  },
  {
   "cell_type": "markdown",
   "metadata": {},
   "source": [
    "### DB setup"
   ]
  },
  {
   "cell_type": "code",
   "execution_count": 1,
   "metadata": {},
   "outputs": [],
   "source": [
    "import pandas as pd\n",
    "import sqlite3\n",
    "import sqlalchemy as db\n",
    "from sqlalchemy.orm import Session\n",
    "import matplotlib as plt\n",
    "from collections import Counter\n",
    "import operator\n",
    "import matplotlib.pyplot as plt"
   ]
  },
  {
   "cell_type": "code",
   "execution_count": 2,
   "metadata": {},
   "outputs": [
    {
     "name": "stdout",
     "output_type": "stream",
     "text": [
      "2019-11-25 23:12:05,375 INFO sqlalchemy.engine.base.Engine SELECT CAST('test plain returns' AS VARCHAR(60)) AS anon_1\n",
      "2019-11-25 23:12:05,375 INFO sqlalchemy.engine.base.Engine ()\n",
      "2019-11-25 23:12:05,378 INFO sqlalchemy.engine.base.Engine SELECT CAST('test unicode returns' AS VARCHAR(60)) AS anon_1\n",
      "2019-11-25 23:12:05,379 INFO sqlalchemy.engine.base.Engine ()\n",
      "2019-11-25 23:12:05,381 INFO sqlalchemy.engine.base.Engine PRAGMA table_info(\"ontime\")\n",
      "2019-11-25 23:12:05,393 INFO sqlalchemy.engine.base.Engine ()\n",
      "2019-11-25 23:12:05,400 INFO sqlalchemy.engine.base.Engine SELECT sql FROM  (SELECT * FROM sqlite_master UNION ALL   SELECT * FROM sqlite_temp_master) WHERE name = 'ontime' AND type = 'table'\n",
      "2019-11-25 23:12:05,405 INFO sqlalchemy.engine.base.Engine ()\n",
      "2019-11-25 23:12:05,418 INFO sqlalchemy.engine.base.Engine PRAGMA foreign_key_list(\"ontime\")\n",
      "2019-11-25 23:12:05,420 INFO sqlalchemy.engine.base.Engine ()\n",
      "2019-11-25 23:12:05,422 INFO sqlalchemy.engine.base.Engine SELECT sql FROM  (SELECT * FROM sqlite_master UNION ALL   SELECT * FROM sqlite_temp_master) WHERE name = 'ontime' AND type = 'table'\n",
      "2019-11-25 23:12:05,423 INFO sqlalchemy.engine.base.Engine ()\n",
      "2019-11-25 23:12:05,434 INFO sqlalchemy.engine.base.Engine PRAGMA index_list(\"ontime\")\n",
      "2019-11-25 23:12:05,443 INFO sqlalchemy.engine.base.Engine ()\n",
      "2019-11-25 23:12:05,447 INFO sqlalchemy.engine.base.Engine PRAGMA index_info(\"dest\")\n",
      "2019-11-25 23:12:05,451 INFO sqlalchemy.engine.base.Engine ()\n",
      "2019-11-25 23:12:05,455 INFO sqlalchemy.engine.base.Engine PRAGMA index_info(\"origin\")\n",
      "2019-11-25 23:12:05,459 INFO sqlalchemy.engine.base.Engine ()\n",
      "2019-11-25 23:12:05,461 INFO sqlalchemy.engine.base.Engine PRAGMA index_info(\"date\")\n",
      "2019-11-25 23:12:05,461 INFO sqlalchemy.engine.base.Engine ()\n",
      "2019-11-25 23:12:05,462 INFO sqlalchemy.engine.base.Engine PRAGMA index_info(\"year\")\n",
      "2019-11-25 23:12:05,463 INFO sqlalchemy.engine.base.Engine ()\n",
      "2019-11-25 23:12:05,465 INFO sqlalchemy.engine.base.Engine PRAGMA index_list(\"ontime\")\n",
      "2019-11-25 23:12:05,466 INFO sqlalchemy.engine.base.Engine ()\n",
      "2019-11-25 23:12:05,467 INFO sqlalchemy.engine.base.Engine PRAGMA index_info(\"dest\")\n",
      "2019-11-25 23:12:05,468 INFO sqlalchemy.engine.base.Engine ()\n",
      "2019-11-25 23:12:05,474 INFO sqlalchemy.engine.base.Engine PRAGMA index_info(\"origin\")\n",
      "2019-11-25 23:12:05,475 INFO sqlalchemy.engine.base.Engine ()\n",
      "2019-11-25 23:12:05,483 INFO sqlalchemy.engine.base.Engine PRAGMA index_info(\"date\")\n",
      "2019-11-25 23:12:05,485 INFO sqlalchemy.engine.base.Engine ()\n",
      "2019-11-25 23:12:05,486 INFO sqlalchemy.engine.base.Engine PRAGMA index_info(\"year\")\n",
      "2019-11-25 23:12:05,489 INFO sqlalchemy.engine.base.Engine ()\n",
      "2019-11-25 23:12:05,490 INFO sqlalchemy.engine.base.Engine SELECT sql FROM  (SELECT * FROM sqlite_master UNION ALL   SELECT * FROM sqlite_temp_master) WHERE name = 'ontime' AND type = 'table'\n",
      "2019-11-25 23:12:05,495 INFO sqlalchemy.engine.base.Engine ()\n"
     ]
    }
   ],
   "source": [
    "engine = db.create_engine('sqlite:///flights.sqlite3', echo=True)     #relative directory (in same folder as this notebook so no directory)\n",
    "connection = engine.connect()\n",
    "flights = db.Table('ontime', db.MetaData(), autoload=True, autoload_with=engine)\n",
    "session = Session(bind=engine)\n",
    "cols = flights.columns"
   ]
  },
  {
   "cell_type": "code",
   "execution_count": 3,
   "metadata": {
    "scrolled": true
   },
   "outputs": [
    {
     "data": {
      "text/plain": [
       "['Year',\n",
       " 'Month',\n",
       " 'DayofMonth',\n",
       " 'DayOfWeek',\n",
       " 'DepTime',\n",
       " 'CRSDepTime',\n",
       " 'ArrTime',\n",
       " 'CRSArrTime',\n",
       " 'UniqueCarrier',\n",
       " 'FlightNum',\n",
       " 'TailNum',\n",
       " 'ActualElapsedTime',\n",
       " 'CRSElapsedTime',\n",
       " 'AirTime',\n",
       " 'ArrDelay',\n",
       " 'DepDelay',\n",
       " 'Origin',\n",
       " 'Dest',\n",
       " 'Distance',\n",
       " 'TaxiIn',\n",
       " 'TaxiOut',\n",
       " 'Cancelled',\n",
       " 'CancellationCode',\n",
       " 'Diverted',\n",
       " 'CarrierDelay',\n",
       " 'WeatherDelay',\n",
       " 'NASDelay',\n",
       " 'SecurityDelay',\n",
       " 'LateAircraftDelay']"
      ]
     },
     "execution_count": 3,
     "metadata": {},
     "output_type": "execute_result"
    }
   ],
   "source": [
    "cols.keys()"
   ]
  },
  {
   "cell_type": "markdown",
   "metadata": {},
   "source": [
    "### Best and Worst Airlines"
   ]
  },
  {
   "cell_type": "code",
   "execution_count": 4,
   "metadata": {},
   "outputs": [],
   "source": [
    "def percentages(timeDelay):\n",
    "    numerator = Counter(session.query(cols.UniqueCarrier).filter(cols.ArrDelay.cast(db.Integer) >= timeDelay).all())\n",
    "    denominator = Counter(session.query(cols.UniqueCarrier).all())\n",
    "    percentDict = {}\n",
    "    for airline in denominator.keys():\n",
    "        percentDict[str(airline)] = (numerator[airline]/denominator[airline])*100\n",
    "    return dict(sorted(percentDict.items(), key=operator.itemgetter(1), reverse=True))"
   ]
  },
  {
   "cell_type": "code",
   "execution_count": 5,
   "metadata": {},
   "outputs": [
    {
     "name": "stdout",
     "output_type": "stream",
     "text": [
      "2019-11-25 23:12:05,547 INFO sqlalchemy.engine.base.Engine BEGIN (implicit)\n",
      "2019-11-25 23:12:05,548 INFO sqlalchemy.engine.base.Engine SELECT ontime.\"UniqueCarrier\" AS \"ontime_UniqueCarrier\" \n",
      "FROM ontime \n",
      "WHERE CAST(ontime.\"ArrDelay\" AS INTEGER) >= ?\n",
      "2019-11-25 23:12:05,555 INFO sqlalchemy.engine.base.Engine (60,)\n",
      "2019-11-25 23:12:40,955 INFO sqlalchemy.engine.base.Engine SELECT ontime.\"UniqueCarrier\" AS \"ontime_UniqueCarrier\" \n",
      "FROM ontime\n",
      "2019-11-25 23:12:40,955 INFO sqlalchemy.engine.base.Engine ()\n"
     ]
    }
   ],
   "source": [
    "onehour = percentages(60)"
   ]
  },
  {
   "cell_type": "code",
   "execution_count": 6,
   "metadata": {},
   "outputs": [
    {
     "name": "stdout",
     "output_type": "stream",
     "text": [
      "2019-11-25 23:24:44,226 INFO sqlalchemy.engine.base.Engine SELECT ontime.\"UniqueCarrier\" AS \"ontime_UniqueCarrier\" \n",
      "FROM ontime \n",
      "WHERE CAST(ontime.\"ArrDelay\" AS INTEGER) >= ?\n",
      "2019-11-25 23:24:44,227 INFO sqlalchemy.engine.base.Engine (180,)\n",
      "2019-11-25 23:25:15,080 INFO sqlalchemy.engine.base.Engine SELECT ontime.\"UniqueCarrier\" AS \"ontime_UniqueCarrier\" \n",
      "FROM ontime\n",
      "2019-11-25 23:25:15,081 INFO sqlalchemy.engine.base.Engine ()\n"
     ]
    }
   ],
   "source": [
    "threehours = percentages(180)"
   ]
  },
  {
   "cell_type": "code",
   "execution_count": 7,
   "metadata": {},
   "outputs": [
    {
     "name": "stdout",
     "output_type": "stream",
     "text": [
      "2019-11-25 23:42:26,628 INFO sqlalchemy.engine.base.Engine SELECT ontime.\"UniqueCarrier\" AS \"ontime_UniqueCarrier\" \n",
      "FROM ontime \n",
      "WHERE CAST(ontime.\"ArrDelay\" AS INTEGER) >= ?\n",
      "2019-11-25 23:42:26,631 INFO sqlalchemy.engine.base.Engine (300,)\n",
      "2019-11-25 23:42:44,815 INFO sqlalchemy.engine.base.Engine SELECT ontime.\"UniqueCarrier\" AS \"ontime_UniqueCarrier\" \n",
      "FROM ontime\n",
      "2019-11-25 23:42:44,815 INFO sqlalchemy.engine.base.Engine ()\n"
     ]
    }
   ],
   "source": [
    "fivehours = percentages(300)"
   ]
  },
  {
   "cell_type": "code",
   "execution_count": 8,
   "metadata": {},
   "outputs": [
    {
     "data": {
      "image/png": "[encoded data removed]",
      "text/plain": [
       "<Figure size 432x288 with 1 Axes>"
      ]
     },
     "metadata": {
      "needs_background": "light"
     },
     "output_type": "display_data"
    }
   ],
   "source": [
    "plt.bar(onehour.keys(), onehour.values(), width=0.8, color='g')\n",
    "plt.xticks(range(len(onehour)), onehour.keys(), rotation=90)\n",
    "plt.show()"
   ]
  },
  {
   "cell_type": "code",
   "execution_count": 9,
   "metadata": {},
   "outputs": [
    {
     "data": {
      "image/png": "[encoded data removed]",
      "text/plain": [
       "<Figure size 432x288 with 1 Axes>"
      ]
     },
     "metadata": {
      "needs_background": "light"
     },
     "output_type": "display_data"
    }
   ],
   "source": [
    "plt.bar(threehours.keys(), threehours.values(), width=0.8, color='g')\n",
    "plt.xticks(range(len(threehours)), threehours.keys(), rotation=90)\n",
    "plt.show()"
   ]
  },
  {
   "cell_type": "code",
   "execution_count": 10,
   "metadata": {},
   "outputs": [
    {
     "data": {
      "image/png": "[encoded data removed]",
      "text/plain": [
       "<Figure size 432x288 with 1 Axes>"
      ]
     },
     "metadata": {
      "needs_background": "light"
     },
     "output_type": "display_data"
    }
   ],
   "source": [
    "plt.bar(fivehours.keys(), fivehours.values(), width=0.8, color='g')\n",
    "plt.xticks(range(len(fivehours)), fivehours.keys(), rotation=90)\n",
    "plt.show()"
   ]
  }
 ],
 "metadata": {
  "kernelspec": {
   "display_name": "Python 3",
   "language": "python",
   "name": "python3"
  },
  "language_info": {
   "codemirror_mode": {
    "name": "ipython",
    "version": 3
   },
   "file_extension": ".py",
   "mimetype": "text/x-python",
   "name": "python",
   "nbconvert_exporter": "python",
   "pygments_lexer": "ipython3",
   "version": "3.7.3"
  }
 },
 "nbformat": 4,
 "nbformat_minor": 2
}
