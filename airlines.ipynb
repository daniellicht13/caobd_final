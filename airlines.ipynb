{
 "cells": [
  {
   "cell_type": "markdown",
   "metadata": {},
   "source": [
    "https://www.youtube.com/watch?v=woKYyhLCcnU"
   ]
  },
  {
   "cell_type": "markdown",
   "metadata": {},
   "source": [
    "### DB setup"
   ]
  },
  {
   "cell_type": "code",
   "execution_count": 19,
   "metadata": {},
   "outputs": [],
   "source": [
    "import pandas as pd\n",
    "import sqlite3\n",
    "import sqlalchemy as db\n",
    "from sqlalchemy.orm import Session\n",
    "import matplotlib as plt\n",
    "from collections import Counter\n",
    "import operator\n",
    "import matplotlib.pyplot as plt"
   ]
  },
  {
   "cell_type": "code",
   "execution_count": 2,
   "metadata": {},
   "outputs": [
    {
     "name": "stdout",
     "output_type": "stream",
     "text": [
      "2019-11-25 21:23:42,151 INFO sqlalchemy.engine.base.Engine SELECT CAST('test plain returns' AS VARCHAR(60)) AS anon_1\n",
      "2019-11-25 21:23:42,152 INFO sqlalchemy.engine.base.Engine ()\n",
      "2019-11-25 21:23:42,153 INFO sqlalchemy.engine.base.Engine SELECT CAST('test unicode returns' AS VARCHAR(60)) AS anon_1\n",
      "2019-11-25 21:23:42,154 INFO sqlalchemy.engine.base.Engine ()\n",
      "2019-11-25 21:23:42,156 INFO sqlalchemy.engine.base.Engine PRAGMA table_info(\"ontime\")\n",
      "2019-11-25 21:23:42,156 INFO sqlalchemy.engine.base.Engine ()\n",
      "2019-11-25 21:23:42,159 INFO sqlalchemy.engine.base.Engine SELECT sql FROM  (SELECT * FROM sqlite_master UNION ALL   SELECT * FROM sqlite_temp_master) WHERE name = 'ontime' AND type = 'table'\n",
      "2019-11-25 21:23:42,160 INFO sqlalchemy.engine.base.Engine ()\n",
      "2019-11-25 21:23:42,166 INFO sqlalchemy.engine.base.Engine PRAGMA foreign_key_list(\"ontime\")\n",
      "2019-11-25 21:23:42,167 INFO sqlalchemy.engine.base.Engine ()\n",
      "2019-11-25 21:23:42,168 INFO sqlalchemy.engine.base.Engine SELECT sql FROM  (SELECT * FROM sqlite_master UNION ALL   SELECT * FROM sqlite_temp_master) WHERE name = 'ontime' AND type = 'table'\n",
      "2019-11-25 21:23:42,171 INFO sqlalchemy.engine.base.Engine ()\n",
      "2019-11-25 21:23:42,173 INFO sqlalchemy.engine.base.Engine PRAGMA index_list(\"ontime\")\n",
      "2019-11-25 21:23:42,174 INFO sqlalchemy.engine.base.Engine ()\n",
      "2019-11-25 21:23:42,176 INFO sqlalchemy.engine.base.Engine PRAGMA index_info(\"dest\")\n",
      "2019-11-25 21:23:42,180 INFO sqlalchemy.engine.base.Engine ()\n",
      "2019-11-25 21:23:42,181 INFO sqlalchemy.engine.base.Engine PRAGMA index_info(\"origin\")\n",
      "2019-11-25 21:23:42,181 INFO sqlalchemy.engine.base.Engine ()\n",
      "2019-11-25 21:23:42,183 INFO sqlalchemy.engine.base.Engine PRAGMA index_info(\"date\")\n",
      "2019-11-25 21:23:42,183 INFO sqlalchemy.engine.base.Engine ()\n",
      "2019-11-25 21:23:42,186 INFO sqlalchemy.engine.base.Engine PRAGMA index_info(\"year\")\n",
      "2019-11-25 21:23:42,188 INFO sqlalchemy.engine.base.Engine ()\n",
      "2019-11-25 21:23:42,192 INFO sqlalchemy.engine.base.Engine PRAGMA index_list(\"ontime\")\n",
      "2019-11-25 21:23:42,193 INFO sqlalchemy.engine.base.Engine ()\n",
      "2019-11-25 21:23:42,195 INFO sqlalchemy.engine.base.Engine PRAGMA index_info(\"dest\")\n",
      "2019-11-25 21:23:42,195 INFO sqlalchemy.engine.base.Engine ()\n",
      "2019-11-25 21:23:42,197 INFO sqlalchemy.engine.base.Engine PRAGMA index_info(\"origin\")\n",
      "2019-11-25 21:23:42,198 INFO sqlalchemy.engine.base.Engine ()\n",
      "2019-11-25 21:23:42,199 INFO sqlalchemy.engine.base.Engine PRAGMA index_info(\"date\")\n",
      "2019-11-25 21:23:42,201 INFO sqlalchemy.engine.base.Engine ()\n",
      "2019-11-25 21:23:42,202 INFO sqlalchemy.engine.base.Engine PRAGMA index_info(\"year\")\n",
      "2019-11-25 21:23:42,204 INFO sqlalchemy.engine.base.Engine ()\n",
      "2019-11-25 21:23:42,206 INFO sqlalchemy.engine.base.Engine SELECT sql FROM  (SELECT * FROM sqlite_master UNION ALL   SELECT * FROM sqlite_temp_master) WHERE name = 'ontime' AND type = 'table'\n",
      "2019-11-25 21:23:42,208 INFO sqlalchemy.engine.base.Engine ()\n"
     ]
    }
   ],
   "source": [
    "engine = db.create_engine('sqlite:///flights.sqlite3', echo=True)     #relative directory (in same folder as this notebook so no directory)\n",
    "connection = engine.connect()\n",
    "flights = db.Table('ontime', db.MetaData(), autoload=True, autoload_with=engine)\n",
    "session = Session(bind=engine)\n",
    "cols = flights.columns"
   ]
  },
  {
   "cell_type": "code",
   "execution_count": 3,
   "metadata": {
    "scrolled": true
   },
   "outputs": [
    {
     "data": {
      "text/plain": [
       "['Year',\n",
       " 'Month',\n",
       " 'DayofMonth',\n",
       " 'DayOfWeek',\n",
       " 'DepTime',\n",
       " 'CRSDepTime',\n",
       " 'ArrTime',\n",
       " 'CRSArrTime',\n",
       " 'UniqueCarrier',\n",
       " 'FlightNum',\n",
       " 'TailNum',\n",
       " 'ActualElapsedTime',\n",
       " 'CRSElapsedTime',\n",
       " 'AirTime',\n",
       " 'ArrDelay',\n",
       " 'DepDelay',\n",
       " 'Origin',\n",
       " 'Dest',\n",
       " 'Distance',\n",
       " 'TaxiIn',\n",
       " 'TaxiOut',\n",
       " 'Cancelled',\n",
       " 'CancellationCode',\n",
       " 'Diverted',\n",
       " 'CarrierDelay',\n",
       " 'WeatherDelay',\n",
       " 'NASDelay',\n",
       " 'SecurityDelay',\n",
       " 'LateAircraftDelay']"
      ]
     },
     "execution_count": 3,
     "metadata": {},
     "output_type": "execute_result"
    }
   ],
   "source": [
    "cols.keys()"
   ]
  },
  {
   "cell_type": "markdown",
   "metadata": {},
   "source": [
    "### Best and Worst Airlines"
   ]
  },
  {
   "cell_type": "code",
   "execution_count": 4,
   "metadata": {},
   "outputs": [],
   "source": [
    "q = session.query(cols.UniqueCarrier).filter(cols.ArrDelay.cast(db.Integer) >= 60)"
   ]
  },
  {
   "cell_type": "code",
   "execution_count": 5,
   "metadata": {},
   "outputs": [
    {
     "name": "stdout",
     "output_type": "stream",
     "text": [
      "2019-11-25 21:23:42,243 INFO sqlalchemy.engine.base.Engine BEGIN (implicit)\n",
      "2019-11-25 21:23:42,246 INFO sqlalchemy.engine.base.Engine SELECT ontime.\"UniqueCarrier\" AS \"ontime_UniqueCarrier\" \n",
      "FROM ontime \n",
      "WHERE CAST(ontime.\"ArrDelay\" AS INTEGER) >= ?\n",
      "2019-11-25 21:23:42,248 INFO sqlalchemy.engine.base.Engine (60,)\n"
     ]
    }
   ],
   "source": [
    "onehr08 = q.all()"
   ]
  },
  {
   "cell_type": "code",
   "execution_count": 6,
   "metadata": {},
   "outputs": [],
   "source": [
    "numerator = Counter(onehr08)"
   ]
  },
  {
   "cell_type": "code",
   "execution_count": 7,
   "metadata": {},
   "outputs": [
    {
     "name": "stdout",
     "output_type": "stream",
     "text": [
      "2019-11-25 21:24:16,387 INFO sqlalchemy.engine.base.Engine SELECT ontime.\"UniqueCarrier\" AS \"ontime_UniqueCarrier\" \n",
      "FROM ontime\n",
      "2019-11-25 21:24:16,390 INFO sqlalchemy.engine.base.Engine ()\n"
     ]
    }
   ],
   "source": [
    "denominator = Counter(session.query(cols.UniqueCarrier).all())"
   ]
  },
  {
   "cell_type": "code",
   "execution_count": 21,
   "metadata": {},
   "outputs": [],
   "source": [
    "percentDict = {}\n",
    "for airline in denominator.keys():\n",
    "    percentDict[str(airline)] = (numerator[airline]/denominator[airline])*100"
   ]
  },
  {
   "cell_type": "code",
   "execution_count": 22,
   "metadata": {},
   "outputs": [],
   "source": [
    "pDictCopy = percentDict"
   ]
  },
  {
   "cell_type": "code",
   "execution_count": 23,
   "metadata": {},
   "outputs": [],
   "source": [
    "percentDict = dict(sorted(percentDict.items(), key=operator.itemgetter(1), reverse=True))"
   ]
  },
  {
   "cell_type": "code",
   "execution_count": 26,
   "metadata": {},
   "outputs": [
    {
     "data": {
      "image/png": "[encoded data removed]",
      "text/plain": [
       "<Figure size 432x288 with 1 Axes>"
      ]
     },
     "metadata": {
      "needs_background": "light"
     },
     "output_type": "display_data"
    }
   ],
   "source": [
    "plt.bar(percentDict.keys(), percentDict.values(), width=0.8, color='g')\n",
    "plt.xticks(range(len(percentDict)), percentDict.keys(), rotation=90)\n",
    "plt.show()"
   ]
  },
  {
   "cell_type": "code",
   "execution_count": null,
   "metadata": {},
   "outputs": [],
   "source": []
  }
 ],
 "metadata": {
  "kernelspec": {
   "display_name": "Python 3",
   "language": "python",
   "name": "python3"
  },
  "language_info": {
   "codemirror_mode": {
    "name": "ipython",
    "version": 3
   },
   "file_extension": ".py",
   "mimetype": "text/x-python",
   "name": "python",
   "nbconvert_exporter": "python",
   "pygments_lexer": "ipython3",
   "version": "3.7.3"
  }
 },
 "nbformat": 4,
 "nbformat_minor": 2
}
