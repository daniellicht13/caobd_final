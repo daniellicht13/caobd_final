{
 "cells": [
  {
   "cell_type": "markdown",
   "metadata": {},
   "source": [
    "https://www.youtube.com/watch?v=woKYyhLCcnU"
   ]
  },
  {
   "cell_type": "markdown",
   "metadata": {},
   "source": [
    "### DB setup"
   ]
  },
  {
   "cell_type": "code",
   "execution_count": 1,
   "metadata": {},
   "outputs": [],
   "source": [
    "import pandas as pd\n",
    "import sqlite3\n",
    "import sqlalchemy as db\n",
    "from sqlalchemy.orm import Session\n",
    "import matplotlib as plt\n",
    "from collections import Counter\n",
    "import operator\n",
    "import matplotlib.pyplot as plt"
   ]
  },
  {
   "cell_type": "code",
   "execution_count": null,
   "metadata": {},
   "outputs": [],
   "source": [
    "engine = db.create_engine('sqlite:///flights.sqlite3', echo=True)     #relative directory (in same folder as this notebook so no directory)\n",
    "connection = engine.connect()\n",
    "flights = db.Table('ontime', db.MetaData(), autoload=True, autoload_with=engine)\n",
    "session = Session(bind=engine)\n",
    "cols = flights.columns"
   ]
  },
  {
   "cell_type": "code",
   "execution_count": 3,
   "metadata": {
    "scrolled": true
   },
   "outputs": [
    {
     "data": {
      "text/plain": [
       "['Year',\n",
       " 'Month',\n",
       " 'DayofMonth',\n",
       " 'DayOfWeek',\n",
       " 'DepTime',\n",
       " 'CRSDepTime',\n",
       " 'ArrTime',\n",
       " 'CRSArrTime',\n",
       " 'UniqueCarrier',\n",
       " 'FlightNum',\n",
       " 'TailNum',\n",
       " 'ActualElapsedTime',\n",
       " 'CRSElapsedTime',\n",
       " 'AirTime',\n",
       " 'ArrDelay',\n",
       " 'DepDelay',\n",
       " 'Origin',\n",
       " 'Dest',\n",
       " 'Distance',\n",
       " 'TaxiIn',\n",
       " 'TaxiOut',\n",
       " 'Cancelled',\n",
       " 'CancellationCode',\n",
       " 'Diverted',\n",
       " 'CarrierDelay',\n",
       " 'WeatherDelay',\n",
       " 'NASDelay',\n",
       " 'SecurityDelay',\n",
       " 'LateAircraftDelay']"
      ]
     },
     "execution_count": 3,
     "metadata": {},
     "output_type": "execute_result"
    }
   ],
   "source": [
    "cols.keys()"
   ]
  },
  {
   "cell_type": "markdown",
   "metadata": {},
   "source": [
    "### Best and Worst Airlines"
   ]
  },
  {
   "cell_type": "code",
   "execution_count": 4,
   "metadata": {},
   "outputs": [],
   "source": [
    "def percentages(timeDelay):\n",
    "    numerator = Counter(session.query(cols.UniqueCarrier).filter(cols.ArrDelay.cast(db.Integer) >= timeDelay).all())\n",
    "    denominator = Counter(session.query(cols.UniqueCarrier).all())\n",
    "    percentDict = {}\n",
    "    for airline in denominator.keys():\n",
    "        percentDict[str(airline)[2:4]] = (numerator[airline]/denominator[airline])*100\n",
    "    return dict(sorted(percentDict.items(), key=operator.itemgetter(1), reverse=True))"
   ]
  },
  {
   "cell_type": "code",
   "execution_count": 5,
   "metadata": {},
   "outputs": [
    {
     "name": "stdout",
     "output_type": "stream",
     "text": [
      "2019-12-01 22:00:45,413 INFO sqlalchemy.engine.base.Engine BEGIN (implicit)\n",
      "2019-12-01 22:00:45,418 INFO sqlalchemy.engine.base.Engine SELECT ontime.\"UniqueCarrier\" AS \"ontime_UniqueCarrier\" \n",
      "FROM ontime \n",
      "WHERE CAST(ontime.\"ArrDelay\" AS INTEGER) >= ?\n",
      "2019-12-01 22:00:45,420 INFO sqlalchemy.engine.base.Engine (60,)\n",
      "2019-12-01 22:01:42,921 INFO sqlalchemy.engine.base.Engine SELECT ontime.\"UniqueCarrier\" AS \"ontime_UniqueCarrier\" \n",
      "FROM ontime\n",
      "2019-12-01 22:01:42,922 INFO sqlalchemy.engine.base.Engine ()\n"
     ]
    }
   ],
   "source": [
    "onehour = percentages(60)"
   ]
  },
  {
   "cell_type": "code",
   "execution_count": 6,
   "metadata": {},
   "outputs": [
    {
     "name": "stdout",
     "output_type": "stream",
     "text": [
      "2019-12-01 22:15:49,283 INFO sqlalchemy.engine.base.Engine SELECT ontime.\"UniqueCarrier\" AS \"ontime_UniqueCarrier\" \n",
      "FROM ontime \n",
      "WHERE CAST(ontime.\"ArrDelay\" AS INTEGER) >= ?\n",
      "2019-12-01 22:15:49,287 INFO sqlalchemy.engine.base.Engine (180,)\n",
      "2019-12-01 22:16:16,784 INFO sqlalchemy.engine.base.Engine SELECT ontime.\"UniqueCarrier\" AS \"ontime_UniqueCarrier\" \n",
      "FROM ontime\n",
      "2019-12-01 22:16:16,785 INFO sqlalchemy.engine.base.Engine ()\n"
     ]
    }
   ],
   "source": [
    "threehours = percentages(180)"
   ]
  },
  {
   "cell_type": "code",
   "execution_count": 7,
   "metadata": {},
   "outputs": [
    {
     "name": "stdout",
     "output_type": "stream",
     "text": [
      "2019-12-01 22:27:33,883 INFO sqlalchemy.engine.base.Engine SELECT ontime.\"UniqueCarrier\" AS \"ontime_UniqueCarrier\" \n",
      "FROM ontime \n",
      "WHERE CAST(ontime.\"ArrDelay\" AS INTEGER) >= ?\n",
      "2019-12-01 22:27:33,885 INFO sqlalchemy.engine.base.Engine (300,)\n",
      "2019-12-01 22:27:56,528 INFO sqlalchemy.engine.base.Engine SELECT ontime.\"UniqueCarrier\" AS \"ontime_UniqueCarrier\" \n",
      "FROM ontime\n",
      "2019-12-01 22:27:56,529 INFO sqlalchemy.engine.base.Engine ()\n"
     ]
    }
   ],
   "source": [
    "fivehours = percentages(300)"
   ]
  },
  {
   "cell_type": "code",
   "execution_count": 8,
   "metadata": {},
   "outputs": [
    {
     "data": {
      "image/png": "[encoded data removed]",
      "text/plain": [
       "<Figure size 432x288 with 1 Axes>"
      ]
     },
     "metadata": {
      "needs_background": "light"
     },
     "output_type": "display_data"
    }
   ],
   "source": [
    "plt.bar(onehour.keys(), onehour.values(), width=0.8, color='g')\n",
    "plt.xticks(range(len(onehour)), onehour.keys(), rotation=90)\n",
    "plt.title(\"Airline vs. one hour delays from 2000-2008 (percentage)\")\n",
    "plt.xlabel(\"Airline\")\n",
    "plt.ylabel(\"Percentage of flights delayed\")\n",
    "plt.legend\n",
    "plt.show()"
   ]
  },
  {
   "cell_type": "code",
   "execution_count": 12,
   "metadata": {},
   "outputs": [
    {
     "name": "stdout",
     "output_type": "stream",
     "text": [
      "YV = Mesa Airlines Inc.\n",
      "EV = Atlantic Southeast Airlines\n",
      "B6 = JetBlue Airways\n",
      "FL = AirTran Airways Corporation\n",
      "UA = United Air Lines Inc.\n",
      "XE = Expressjet Airlines Inc.\n",
      "DH = Independence Air\n",
      "MQ = American Eagle Airlines Inc.\n",
      "AA = American Airlines Inc.\n",
      "OH = Comair Inc\n",
      "CO = Continental Air Lines Inc.\n",
      "9E = Pinnacle Airlines Inc\n",
      "TZ = ATA Airlines\n",
      "AS = Alaska Airlines Inc.\n",
      "OO = Skywest Airlines Inc.\n",
      "US = US Airways Inc.\n",
      "TW = Trans World Airways LLC\n",
      "DL = Delta Air Lines Inc.\n",
      "HP = America West Airlines Inc.\n",
      "NW = Northwest Airlines Inc.\n",
      "WN = Southwest Airlines Co.\n",
      "F9 = Frontier Airlines Inc.\n",
      "HA = Hawaiian Airlines Inc.\n",
      "AQ = Aloha Airlines Inc.\n"
     ]
    }
   ],
   "source": [
    "print(\"YV = Mesa Airlines Inc.\")\n",
    "print(\"EV = Atlantic Southeast Airlines\")\n",
    "print(\"B6 = JetBlue Airways\")\n",
    "print(\"FL = AirTran Airways Corporation\")\n",
    "print(\"UA = United Air Lines Inc.\")\n",
    "print(\"XE = Expressjet Airlines Inc.\")\n",
    "print(\"DH = Independence Air\")\n",
    "print(\"MQ = American Eagle Airlines Inc.\")\n",
    "print(\"AA = American Airlines Inc.\")\n",
    "print(\"OH = Comair Inc\")\n",
    "print(\"CO = Continental Air Lines Inc.\")\n",
    "print(\"9E = Pinnacle Airlines Inc\")\n",
    "print(\"TZ = ATA Airlines\")\n",
    "print(\"AS = Alaska Airlines Inc.\")\n",
    "print(\"OO = Skywest Airlines Inc.\")\n",
    "print(\"US = US Airways Inc.\")\n",
    "print(\"TW = Trans World Airways LLC\")\n",
    "print(\"DL = Delta Air Lines Inc.\")\n",
    "print(\"HP = America West Airlines Inc.\")\n",
    "print(\"NW = Northwest Airlines Inc.\")\n",
    "print(\"WN = Southwest Airlines Co.\")\n",
    "print(\"F9 = Frontier Airlines Inc.\")\n",
    "print(\"HA = Hawaiian Airlines Inc.\")\n",
    "print(\"AQ = Aloha Airlines Inc.\")\n"
   ]
  },
  {
   "cell_type": "code",
   "execution_count": 13,
   "metadata": {},
   "outputs": [
    {
     "data": {
      "image/png": "[encoded data removed]",
      "text/plain": [
       "<Figure size 432x288 with 1 Axes>"
      ]
     },
     "metadata": {
      "needs_background": "light"
     },
     "output_type": "display_data"
    }
   ],
   "source": [
    "plt.bar(threehours.keys(), threehours.values(), width=0.8, color='y')\n",
    "plt.xticks(range(len(threehours)), threehours.keys(), rotation=90)\n",
    "plt.title(\"Airline vs. three hour delays from 2000-2008 (percentage)\")\n",
    "plt.xlabel(\"Airline\")\n",
    "plt.ylabel(\"Percentage of flights delayed\")\n",
    "plt.show()"
   ]
  },
  {
   "cell_type": "code",
   "execution_count": 14,
   "metadata": {},
   "outputs": [
    {
     "data": {
      "image/png": "[encoded data removed]",
      "text/plain": [
       "<Figure size 432x288 with 1 Axes>"
      ]
     },
     "metadata": {
      "needs_background": "light"
     },
     "output_type": "display_data"
    }
   ],
   "source": [
    "plt.bar(fivehours.keys(), fivehours.values(), width=0.8, color='r')\n",
    "plt.xticks(range(len(fivehours)), fivehours.keys(), rotation=90)\n",
    "plt.title(\"Airline vs. five hour delays from 2000-2008 (percentage)\")\n",
    "plt.xlabel(\"Airline\")\n",
    "plt.ylabel(\"Percentage of flights delayed\")\n",
    "plt.show()"
   ]
  },
  {
   "cell_type": "code",
   "execution_count": null,
   "metadata": {},
   "outputs": [],
   "source": []
  }
 ],
 "metadata": {
  "kernelspec": {
   "display_name": "Python 3",
   "language": "python",
   "name": "python3"
  },
  "language_info": {
   "codemirror_mode": {
    "name": "ipython",
    "version": 3
   },
   "file_extension": ".py",
   "mimetype": "text/x-python",
   "name": "python",
   "nbconvert_exporter": "python",
   "pygments_lexer": "ipython3",
   "version": "3.7.3"
  }
 },
 "nbformat": 4,
 "nbformat_minor": 2
}
