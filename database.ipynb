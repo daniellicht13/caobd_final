{
 "cells": [
  {
   "cell_type": "code",
   "execution_count": 1,
   "metadata": {},
   "outputs": [],
   "source": [
    "import pandas as pd\n",
    "import sqlite3\n",
    "import sqlalchemy as db\n",
    "from sqlalchemy.orm import sessionmaker\n",
    "import matplotlib as plt\n",
    "\n",
    "\n",
    "%matplotlib inline"
   ]
  },
  {
   "cell_type": "markdown",
   "metadata": {},
   "source": [
    "#### Creating sqlite database\n",
    "    follow directions from [here](http://stat-computing.org/dataexpo/2009/sqlite.html) for sqlite database setup"
   ]
  },
  {
   "cell_type": "code",
   "execution_count": 2,
   "metadata": {},
   "outputs": [
    {
     "name": "stdout",
     "output_type": "stream",
     "text": [
      "2019-11-24 21:38:07,290 INFO sqlalchemy.engine.base.Engine SELECT CAST('test plain returns' AS VARCHAR(60)) AS anon_1\n",
      "2019-11-24 21:38:07,291 INFO sqlalchemy.engine.base.Engine ()\n",
      "2019-11-24 21:38:07,292 INFO sqlalchemy.engine.base.Engine SELECT CAST('test unicode returns' AS VARCHAR(60)) AS anon_1\n",
      "2019-11-24 21:38:07,293 INFO sqlalchemy.engine.base.Engine ()\n",
      "2019-11-24 21:38:07,297 INFO sqlalchemy.engine.base.Engine PRAGMA table_info(\"ontime\")\n",
      "2019-11-24 21:38:07,299 INFO sqlalchemy.engine.base.Engine ()\n",
      "2019-11-24 21:38:07,311 INFO sqlalchemy.engine.base.Engine SELECT sql FROM  (SELECT * FROM sqlite_master UNION ALL   SELECT * FROM sqlite_temp_master) WHERE name = 'ontime' AND type = 'table'\n",
      "2019-11-24 21:38:07,314 INFO sqlalchemy.engine.base.Engine ()\n",
      "2019-11-24 21:38:07,318 INFO sqlalchemy.engine.base.Engine PRAGMA foreign_key_list(\"ontime\")\n",
      "2019-11-24 21:38:07,320 INFO sqlalchemy.engine.base.Engine ()\n",
      "2019-11-24 21:38:07,325 INFO sqlalchemy.engine.base.Engine SELECT sql FROM  (SELECT * FROM sqlite_master UNION ALL   SELECT * FROM sqlite_temp_master) WHERE name = 'ontime' AND type = 'table'\n",
      "2019-11-24 21:38:07,328 INFO sqlalchemy.engine.base.Engine ()\n",
      "2019-11-24 21:38:07,331 INFO sqlalchemy.engine.base.Engine PRAGMA index_list(\"ontime\")\n",
      "2019-11-24 21:38:07,333 INFO sqlalchemy.engine.base.Engine ()\n",
      "2019-11-24 21:38:07,334 INFO sqlalchemy.engine.base.Engine PRAGMA index_info(\"dest\")\n",
      "2019-11-24 21:38:07,336 INFO sqlalchemy.engine.base.Engine ()\n",
      "2019-11-24 21:38:07,337 INFO sqlalchemy.engine.base.Engine PRAGMA index_info(\"origin\")\n",
      "2019-11-24 21:38:07,338 INFO sqlalchemy.engine.base.Engine ()\n",
      "2019-11-24 21:38:07,339 INFO sqlalchemy.engine.base.Engine PRAGMA index_info(\"date\")\n",
      "2019-11-24 21:38:07,339 INFO sqlalchemy.engine.base.Engine ()\n",
      "2019-11-24 21:38:07,343 INFO sqlalchemy.engine.base.Engine PRAGMA index_info(\"year\")\n",
      "2019-11-24 21:38:07,345 INFO sqlalchemy.engine.base.Engine ()\n",
      "2019-11-24 21:38:07,347 INFO sqlalchemy.engine.base.Engine PRAGMA index_list(\"ontime\")\n",
      "2019-11-24 21:38:07,349 INFO sqlalchemy.engine.base.Engine ()\n",
      "2019-11-24 21:38:07,351 INFO sqlalchemy.engine.base.Engine PRAGMA index_info(\"dest\")\n",
      "2019-11-24 21:38:07,352 INFO sqlalchemy.engine.base.Engine ()\n",
      "2019-11-24 21:38:07,354 INFO sqlalchemy.engine.base.Engine PRAGMA index_info(\"origin\")\n",
      "2019-11-24 21:38:07,354 INFO sqlalchemy.engine.base.Engine ()\n",
      "2019-11-24 21:38:07,355 INFO sqlalchemy.engine.base.Engine PRAGMA index_info(\"date\")\n",
      "2019-11-24 21:38:07,358 INFO sqlalchemy.engine.base.Engine ()\n",
      "2019-11-24 21:38:07,360 INFO sqlalchemy.engine.base.Engine PRAGMA index_info(\"year\")\n",
      "2019-11-24 21:38:07,363 INFO sqlalchemy.engine.base.Engine ()\n",
      "2019-11-24 21:38:07,364 INFO sqlalchemy.engine.base.Engine SELECT sql FROM  (SELECT * FROM sqlite_master UNION ALL   SELECT * FROM sqlite_temp_master) WHERE name = 'ontime' AND type = 'table'\n",
      "2019-11-24 21:38:07,366 INFO sqlalchemy.engine.base.Engine ()\n"
     ]
    }
   ],
   "source": [
    "engine = db.create_engine('sqlite:///flights.sqlite3', echo=True)     #relative directory (in same folder as this notebook so no directory)\n",
    "connection = engine.connect()\n",
    "flights = db.Table('ontime', db.MetaData(), autoload=True, autoload_with=engine)\n",
    "Session = sessionmaker(bind=engine)"
   ]
  },
  {
   "cell_type": "code",
   "execution_count": 3,
   "metadata": {},
   "outputs": [
    {
     "data": {
      "text/plain": [
       "['Year',\n",
       " 'Month',\n",
       " 'DayofMonth',\n",
       " 'DayOfWeek',\n",
       " 'DepTime',\n",
       " 'CRSDepTime',\n",
       " 'ArrTime',\n",
       " 'CRSArrTime',\n",
       " 'UniqueCarrier',\n",
       " 'FlightNum',\n",
       " 'TailNum',\n",
       " 'ActualElapsedTime',\n",
       " 'CRSElapsedTime',\n",
       " 'AirTime',\n",
       " 'ArrDelay',\n",
       " 'DepDelay',\n",
       " 'Origin',\n",
       " 'Dest',\n",
       " 'Distance',\n",
       " 'TaxiIn',\n",
       " 'TaxiOut',\n",
       " 'Cancelled',\n",
       " 'CancellationCode',\n",
       " 'Diverted',\n",
       " 'CarrierDelay',\n",
       " 'WeatherDelay',\n",
       " 'NASDelay',\n",
       " 'SecurityDelay',\n",
       " 'LateAircraftDelay']"
      ]
     },
     "execution_count": 3,
     "metadata": {},
     "output_type": "execute_result"
    }
   ],
   "source": [
    "flights.columns.keys()"
   ]
  },
  {
   "cell_type": "code",
   "execution_count": 4,
   "metadata": {},
   "outputs": [],
   "source": [
    "session = Session()"
   ]
  },
  {
   "cell_type": "code",
   "execution_count": 9,
   "metadata": {},
   "outputs": [],
   "source": [
    "s = db.select([flights]).\\\n",
    "        where(db.and_(\n",
    "            flights.columns.Year.cast(db.Integer) == 2008,\n",
    "            flights.columns.ArrDelay.cast(db.Integer) >= 15\n",
    "        ))"
   ]
  },
  {
   "cell_type": "code",
   "execution_count": 26,
   "metadata": {},
   "outputs": [
    {
     "name": "stdout",
     "output_type": "stream",
     "text": [
      "2019-11-24 22:24:35,650 INFO sqlalchemy.engine.base.Engine SELECT ontime.\"Year\", ontime.\"Month\", ontime.\"DayofMonth\", ontime.\"DayOfWeek\", ontime.\"DepTime\", ontime.\"CRSDepTime\", ontime.\"ArrTime\", ontime.\"CRSArrTime\", ontime.\"UniqueCarrier\", ontime.\"FlightNum\", ontime.\"TailNum\", ontime.\"ActualElapsedTime\", ontime.\"CRSElapsedTime\", ontime.\"AirTime\", ontime.\"ArrDelay\", ontime.\"DepDelay\", ontime.\"Origin\", ontime.\"Dest\", ontime.\"Distance\", ontime.\"TaxiIn\", ontime.\"TaxiOut\", ontime.\"Cancelled\", ontime.\"CancellationCode\", ontime.\"Diverted\", ontime.\"CarrierDelay\", ontime.\"WeatherDelay\", ontime.\"NASDelay\", ontime.\"SecurityDelay\", ontime.\"LateAircraftDelay\" \n",
      "FROM ontime \n",
      "WHERE CAST(ontime.\"Year\" AS INTEGER) = ? AND CAST(ontime.\"ArrDelay\" AS INTEGER) >= ?\n",
      "2019-11-24 22:24:35,652 INFO sqlalchemy.engine.base.Engine (2008, 15)\n"
     ]
    }
   ],
   "source": [
    "x = engine.execute(s).fetchall()"
   ]
  },
  {
   "cell_type": "code",
   "execution_count": 27,
   "metadata": {},
   "outputs": [
    {
     "data": {
      "text/plain": [
       "1524735"
      ]
     },
     "execution_count": 27,
     "metadata": {},
     "output_type": "execute_result"
    }
   ],
   "source": [
    "len(x)"
   ]
  },
  {
   "cell_type": "code",
   "execution_count": null,
   "metadata": {},
   "outputs": [],
   "source": []
  }
 ],
 "metadata": {
  "kernelspec": {
   "display_name": "Python 3",
   "language": "python",
   "name": "python3"
  },
  "language_info": {
   "codemirror_mode": {
    "name": "ipython",
    "version": 3
   },
   "file_extension": ".py",
   "mimetype": "text/x-python",
   "name": "python",
   "nbconvert_exporter": "python",
   "pygments_lexer": "ipython3",
   "version": "3.7.3"
  }
 },
 "nbformat": 4,
 "nbformat_minor": 2
}
