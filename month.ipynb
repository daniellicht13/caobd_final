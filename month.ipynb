{
 "cells": [
  {
   "cell_type": "code",
   "execution_count": 1,
   "metadata": {},
   "outputs": [],
   "source": [
    "import sqlite3\n",
    "import sqlalchemy as db\n",
    "from sqlalchemy.orm import Session\n",
    "import matplotlib as plt\n",
    "from collections import Counter\n",
    "import operator\n",
    "\n",
    "import matplotlib.pyplot as plt"
   ]
  },
  {
   "cell_type": "code",
   "execution_count": 2,
   "metadata": {},
   "outputs": [
    {
     "name": "stdout",
     "output_type": "stream",
     "text": [
      "2019-11-26 13:40:33,219 INFO sqlalchemy.engine.base.Engine SELECT CAST('test plain returns' AS VARCHAR(60)) AS anon_1\n",
      "2019-11-26 13:40:33,220 INFO sqlalchemy.engine.base.Engine ()\n",
      "2019-11-26 13:40:33,221 INFO sqlalchemy.engine.base.Engine SELECT CAST('test unicode returns' AS VARCHAR(60)) AS anon_1\n",
      "2019-11-26 13:40:33,222 INFO sqlalchemy.engine.base.Engine ()\n",
      "2019-11-26 13:40:33,224 INFO sqlalchemy.engine.base.Engine PRAGMA table_info(\"ontime\")\n",
      "2019-11-26 13:40:33,224 INFO sqlalchemy.engine.base.Engine ()\n",
      "2019-11-26 13:40:33,227 INFO sqlalchemy.engine.base.Engine SELECT sql FROM  (SELECT * FROM sqlite_master UNION ALL   SELECT * FROM sqlite_temp_master) WHERE name = 'ontime' AND type = 'table'\n",
      "2019-11-26 13:40:33,228 INFO sqlalchemy.engine.base.Engine ()\n",
      "2019-11-26 13:40:33,229 INFO sqlalchemy.engine.base.Engine PRAGMA foreign_key_list(\"ontime\")\n",
      "2019-11-26 13:40:33,229 INFO sqlalchemy.engine.base.Engine ()\n",
      "2019-11-26 13:40:33,230 INFO sqlalchemy.engine.base.Engine SELECT sql FROM  (SELECT * FROM sqlite_master UNION ALL   SELECT * FROM sqlite_temp_master) WHERE name = 'ontime' AND type = 'table'\n",
      "2019-11-26 13:40:33,230 INFO sqlalchemy.engine.base.Engine ()\n",
      "2019-11-26 13:40:33,233 INFO sqlalchemy.engine.base.Engine PRAGMA index_list(\"ontime\")\n",
      "2019-11-26 13:40:33,234 INFO sqlalchemy.engine.base.Engine ()\n",
      "2019-11-26 13:40:33,235 INFO sqlalchemy.engine.base.Engine PRAGMA index_info(\"dest\")\n",
      "2019-11-26 13:40:33,236 INFO sqlalchemy.engine.base.Engine ()\n",
      "2019-11-26 13:40:33,238 INFO sqlalchemy.engine.base.Engine PRAGMA index_info(\"origin\")\n",
      "2019-11-26 13:40:33,239 INFO sqlalchemy.engine.base.Engine ()\n",
      "2019-11-26 13:40:33,240 INFO sqlalchemy.engine.base.Engine PRAGMA index_info(\"date\")\n",
      "2019-11-26 13:40:33,242 INFO sqlalchemy.engine.base.Engine ()\n",
      "2019-11-26 13:40:33,244 INFO sqlalchemy.engine.base.Engine PRAGMA index_info(\"year\")\n",
      "2019-11-26 13:40:33,245 INFO sqlalchemy.engine.base.Engine ()\n",
      "2019-11-26 13:40:33,247 INFO sqlalchemy.engine.base.Engine PRAGMA index_list(\"ontime\")\n",
      "2019-11-26 13:40:33,253 INFO sqlalchemy.engine.base.Engine ()\n",
      "2019-11-26 13:40:33,257 INFO sqlalchemy.engine.base.Engine PRAGMA index_info(\"dest\")\n",
      "2019-11-26 13:40:33,258 INFO sqlalchemy.engine.base.Engine ()\n",
      "2019-11-26 13:40:33,262 INFO sqlalchemy.engine.base.Engine PRAGMA index_info(\"origin\")\n",
      "2019-11-26 13:40:33,263 INFO sqlalchemy.engine.base.Engine ()\n",
      "2019-11-26 13:40:33,268 INFO sqlalchemy.engine.base.Engine PRAGMA index_info(\"date\")\n",
      "2019-11-26 13:40:33,272 INFO sqlalchemy.engine.base.Engine ()\n",
      "2019-11-26 13:40:33,273 INFO sqlalchemy.engine.base.Engine PRAGMA index_info(\"year\")\n",
      "2019-11-26 13:40:33,275 INFO sqlalchemy.engine.base.Engine ()\n",
      "2019-11-26 13:40:33,276 INFO sqlalchemy.engine.base.Engine SELECT sql FROM  (SELECT * FROM sqlite_master UNION ALL   SELECT * FROM sqlite_temp_master) WHERE name = 'ontime' AND type = 'table'\n",
      "2019-11-26 13:40:33,278 INFO sqlalchemy.engine.base.Engine ()\n"
     ]
    }
   ],
   "source": [
    "engine = db.create_engine('sqlite:///flights.sqlite3', echo=True)     #relative directory (in same folder as this notebook so no directory)\n",
    "connection = engine.connect()\n",
    "flights = db.Table('ontime', db.MetaData(), autoload=True, autoload_with=engine)\n",
    "session = Session(bind=engine)\n",
    "cols = flights.columns"
   ]
  },
  {
   "cell_type": "code",
   "execution_count": 3,
   "metadata": {},
   "outputs": [
    {
     "data": {
      "text/plain": [
       "['Year',\n",
       " 'Month',\n",
       " 'DayofMonth',\n",
       " 'DayOfWeek',\n",
       " 'DepTime',\n",
       " 'CRSDepTime',\n",
       " 'ArrTime',\n",
       " 'CRSArrTime',\n",
       " 'UniqueCarrier',\n",
       " 'FlightNum',\n",
       " 'TailNum',\n",
       " 'ActualElapsedTime',\n",
       " 'CRSElapsedTime',\n",
       " 'AirTime',\n",
       " 'ArrDelay',\n",
       " 'DepDelay',\n",
       " 'Origin',\n",
       " 'Dest',\n",
       " 'Distance',\n",
       " 'TaxiIn',\n",
       " 'TaxiOut',\n",
       " 'Cancelled',\n",
       " 'CancellationCode',\n",
       " 'Diverted',\n",
       " 'CarrierDelay',\n",
       " 'WeatherDelay',\n",
       " 'NASDelay',\n",
       " 'SecurityDelay',\n",
       " 'LateAircraftDelay']"
      ]
     },
     "execution_count": 3,
     "metadata": {},
     "output_type": "execute_result"
    }
   ],
   "source": [
    "cols.keys()"
   ]
  },
  {
   "cell_type": "code",
   "execution_count": 19,
   "metadata": {},
   "outputs": [],
   "source": [
    "def intervals(timeDelay):\n",
    "    ranges = {\n",
    "        \"Jan.\": session.query(cols.Month).filter(cols.ArrDelay.cast(db.Integer) >= timeDelay, cols.Month.cast(db.Integer) == 1 ).all(),\n",
    "        \"Feb.\": session.query(cols.Month).filter(cols.ArrDelay.cast(db.Integer) >= timeDelay, cols.Month.cast(db.Integer) == 2).all(),\n",
    "        \"Mar.\": session.query(cols.Month).filter(cols.ArrDelay.cast(db.Integer) >= timeDelay, cols.Month.cast(db.Integer) == 3).all(),\n",
    "        \"Apr.\": session.query(cols.Month).filter(cols.ArrDelay.cast(db.Integer) >= timeDelay, cols.Month.cast(db.Integer) == 4).all(),\n",
    "        \"May\": session.query(cols.Month).filter(cols.ArrDelay.cast(db.Integer) >= timeDelay, cols.Month.cast(db.Integer) == 5).all(),\n",
    "        \"June\": session.query(cols.Month).filter(cols.ArrDelay.cast(db.Integer) >= timeDelay, cols.Month.cast(db.Integer) == 6).all(),\n",
    "        \"July\": session.query(cols.Month).filter(cols.ArrDelay.cast(db.Integer) >= timeDelay, cols.Month.cast(db.Integer) == 7).all(),\n",
    "        \"Aug.\": session.query(cols.Month).filter(cols.ArrDelay.cast(db.Integer) >= timeDelay, cols.Month.cast(db.Integer) == 8).all(),\n",
    "        \"Sept.\": session.query(cols.Month).filter(cols.ArrDelay.cast(db.Integer) >= timeDelay, cols.Month.cast(db.Integer) == 9).all(),\n",
    "        \"Oct.\": session.query(cols.Month).filter(cols.ArrDelay.cast(db.Integer) >= timeDelay, cols.Month.cast(db.Integer) == 10).all(),\n",
    "        \"Nov.\": session.query(cols.Month).filter(cols.ArrDelay.cast(db.Integer) >= timeDelay, cols.Month.cast(db.Integer) == 11).all(),\n",
    "        \"Dec.\": session.query(cols.Month).filter(cols.ArrDelay.cast(db.Integer) >= timeDelay, cols.Month.cast(db.Integer) == 12).all()\n",
    "    }\n",
    "    interval_totals = {}\n",
    "    for key in ranges.keys():\n",
    "        interval_totals[key] = len(ranges[key])\n",
    "    return interval_totals"
   ]
  },
  {
   "cell_type": "code",
   "execution_count": 20,
   "metadata": {
    "scrolled": true
   },
   "outputs": [
    {
     "name": "stdout",
     "output_type": "stream",
     "text": [
      "2019-11-26 15:03:21,590 INFO sqlalchemy.engine.base.Engine SELECT ontime.\"Month\" AS \"ontime_Month\" \n",
      "FROM ontime \n",
      "WHERE CAST(ontime.\"ArrDelay\" AS INTEGER) >= ? AND CAST(ontime.\"Month\" AS INTEGER) = ?\n",
      "2019-11-26 15:03:21,594 INFO sqlalchemy.engine.base.Engine (60, 1)\n",
      "2019-11-26 15:03:51,986 INFO sqlalchemy.engine.base.Engine SELECT ontime.\"Month\" AS \"ontime_Month\" \n",
      "FROM ontime \n",
      "WHERE CAST(ontime.\"ArrDelay\" AS INTEGER) >= ? AND CAST(ontime.\"Month\" AS INTEGER) = ?\n",
      "2019-11-26 15:03:51,986 INFO sqlalchemy.engine.base.Engine (60, 2)\n",
      "2019-11-26 15:04:30,614 INFO sqlalchemy.engine.base.Engine SELECT ontime.\"Month\" AS \"ontime_Month\" \n",
      "FROM ontime \n",
      "WHERE CAST(ontime.\"ArrDelay\" AS INTEGER) >= ? AND CAST(ontime.\"Month\" AS INTEGER) = ?\n",
      "2019-11-26 15:04:30,614 INFO sqlalchemy.engine.base.Engine (60, 3)\n",
      "2019-11-26 15:05:06,371 INFO sqlalchemy.engine.base.Engine SELECT ontime.\"Month\" AS \"ontime_Month\" \n",
      "FROM ontime \n",
      "WHERE CAST(ontime.\"ArrDelay\" AS INTEGER) >= ? AND CAST(ontime.\"Month\" AS INTEGER) = ?\n",
      "2019-11-26 15:05:06,372 INFO sqlalchemy.engine.base.Engine (60, 4)\n",
      "2019-11-26 15:05:33,930 INFO sqlalchemy.engine.base.Engine SELECT ontime.\"Month\" AS \"ontime_Month\" \n",
      "FROM ontime \n",
      "WHERE CAST(ontime.\"ArrDelay\" AS INTEGER) >= ? AND CAST(ontime.\"Month\" AS INTEGER) = ?\n",
      "2019-11-26 15:05:33,930 INFO sqlalchemy.engine.base.Engine (60, 5)\n",
      "2019-11-26 15:06:13,895 INFO sqlalchemy.engine.base.Engine SELECT ontime.\"Month\" AS \"ontime_Month\" \n",
      "FROM ontime \n",
      "WHERE CAST(ontime.\"ArrDelay\" AS INTEGER) >= ? AND CAST(ontime.\"Month\" AS INTEGER) = ?\n",
      "2019-11-26 15:06:13,896 INFO sqlalchemy.engine.base.Engine (60, 6)\n",
      "2019-11-26 15:06:51,439 INFO sqlalchemy.engine.base.Engine SELECT ontime.\"Month\" AS \"ontime_Month\" \n",
      "FROM ontime \n",
      "WHERE CAST(ontime.\"ArrDelay\" AS INTEGER) >= ? AND CAST(ontime.\"Month\" AS INTEGER) = ?\n",
      "2019-11-26 15:06:51,440 INFO sqlalchemy.engine.base.Engine (60, 7)\n",
      "2019-11-26 15:07:38,779 INFO sqlalchemy.engine.base.Engine SELECT ontime.\"Month\" AS \"ontime_Month\" \n",
      "FROM ontime \n",
      "WHERE CAST(ontime.\"ArrDelay\" AS INTEGER) >= ? AND CAST(ontime.\"Month\" AS INTEGER) = ?\n",
      "2019-11-26 15:07:38,780 INFO sqlalchemy.engine.base.Engine (60, 8)\n",
      "2019-11-26 15:08:17,779 INFO sqlalchemy.engine.base.Engine SELECT ontime.\"Month\" AS \"ontime_Month\" \n",
      "FROM ontime \n",
      "WHERE CAST(ontime.\"ArrDelay\" AS INTEGER) >= ? AND CAST(ontime.\"Month\" AS INTEGER) = ?\n",
      "2019-11-26 15:08:17,780 INFO sqlalchemy.engine.base.Engine (60, 9)\n",
      "2019-11-26 15:08:58,318 INFO sqlalchemy.engine.base.Engine SELECT ontime.\"Month\" AS \"ontime_Month\" \n",
      "FROM ontime \n",
      "WHERE CAST(ontime.\"ArrDelay\" AS INTEGER) >= ? AND CAST(ontime.\"Month\" AS INTEGER) = ?\n",
      "2019-11-26 15:08:58,319 INFO sqlalchemy.engine.base.Engine (60, 10)\n",
      "2019-11-26 15:09:41,412 INFO sqlalchemy.engine.base.Engine SELECT ontime.\"Month\" AS \"ontime_Month\" \n",
      "FROM ontime \n",
      "WHERE CAST(ontime.\"ArrDelay\" AS INTEGER) >= ? AND CAST(ontime.\"Month\" AS INTEGER) = ?\n",
      "2019-11-26 15:09:41,414 INFO sqlalchemy.engine.base.Engine (60, 11)\n",
      "2019-11-26 15:10:07,862 INFO sqlalchemy.engine.base.Engine SELECT ontime.\"Month\" AS \"ontime_Month\" \n",
      "FROM ontime \n",
      "WHERE CAST(ontime.\"ArrDelay\" AS INTEGER) >= ? AND CAST(ontime.\"Month\" AS INTEGER) = ?\n",
      "2019-11-26 15:10:07,863 INFO sqlalchemy.engine.base.Engine (60, 12)\n"
     ]
    }
   ],
   "source": [
    "onehour = intervals(60)"
   ]
  },
  {
   "cell_type": "code",
   "execution_count": 21,
   "metadata": {},
   "outputs": [
    {
     "name": "stdout",
     "output_type": "stream",
     "text": [
      "2019-11-26 15:10:44,758 INFO sqlalchemy.engine.base.Engine SELECT ontime.\"Month\" AS \"ontime_Month\" \n",
      "FROM ontime \n",
      "WHERE CAST(ontime.\"ArrDelay\" AS INTEGER) >= ? AND CAST(ontime.\"Month\" AS INTEGER) = ?\n",
      "2019-11-26 15:10:44,760 INFO sqlalchemy.engine.base.Engine (180, 1)\n",
      "2019-11-26 15:11:25,224 INFO sqlalchemy.engine.base.Engine SELECT ontime.\"Month\" AS \"ontime_Month\" \n",
      "FROM ontime \n",
      "WHERE CAST(ontime.\"ArrDelay\" AS INTEGER) >= ? AND CAST(ontime.\"Month\" AS INTEGER) = ?\n",
      "2019-11-26 15:11:25,225 INFO sqlalchemy.engine.base.Engine (180, 2)\n",
      "2019-11-26 15:11:51,495 INFO sqlalchemy.engine.base.Engine SELECT ontime.\"Month\" AS \"ontime_Month\" \n",
      "FROM ontime \n",
      "WHERE CAST(ontime.\"ArrDelay\" AS INTEGER) >= ? AND CAST(ontime.\"Month\" AS INTEGER) = ?\n",
      "2019-11-26 15:11:51,496 INFO sqlalchemy.engine.base.Engine (180, 3)\n",
      "2019-11-26 15:12:43,790 INFO sqlalchemy.engine.base.Engine SELECT ontime.\"Month\" AS \"ontime_Month\" \n",
      "FROM ontime \n",
      "WHERE CAST(ontime.\"ArrDelay\" AS INTEGER) >= ? AND CAST(ontime.\"Month\" AS INTEGER) = ?\n",
      "2019-11-26 15:12:43,796 INFO sqlalchemy.engine.base.Engine (180, 4)\n",
      "2019-11-26 15:13:33,504 INFO sqlalchemy.engine.base.Engine SELECT ontime.\"Month\" AS \"ontime_Month\" \n",
      "FROM ontime \n",
      "WHERE CAST(ontime.\"ArrDelay\" AS INTEGER) >= ? AND CAST(ontime.\"Month\" AS INTEGER) = ?\n",
      "2019-11-26 15:13:33,505 INFO sqlalchemy.engine.base.Engine (180, 5)\n",
      "2019-11-26 15:14:06,754 INFO sqlalchemy.engine.base.Engine SELECT ontime.\"Month\" AS \"ontime_Month\" \n",
      "FROM ontime \n",
      "WHERE CAST(ontime.\"ArrDelay\" AS INTEGER) >= ? AND CAST(ontime.\"Month\" AS INTEGER) = ?\n",
      "2019-11-26 15:14:06,755 INFO sqlalchemy.engine.base.Engine (180, 6)\n",
      "2019-11-26 15:14:42,539 INFO sqlalchemy.engine.base.Engine SELECT ontime.\"Month\" AS \"ontime_Month\" \n",
      "FROM ontime \n",
      "WHERE CAST(ontime.\"ArrDelay\" AS INTEGER) >= ? AND CAST(ontime.\"Month\" AS INTEGER) = ?\n",
      "2019-11-26 15:14:42,539 INFO sqlalchemy.engine.base.Engine (180, 7)\n",
      "2019-11-26 15:15:25,870 INFO sqlalchemy.engine.base.Engine SELECT ontime.\"Month\" AS \"ontime_Month\" \n",
      "FROM ontime \n",
      "WHERE CAST(ontime.\"ArrDelay\" AS INTEGER) >= ? AND CAST(ontime.\"Month\" AS INTEGER) = ?\n",
      "2019-11-26 15:15:25,871 INFO sqlalchemy.engine.base.Engine (180, 8)\n",
      "2019-11-26 15:15:54,056 INFO sqlalchemy.engine.base.Engine SELECT ontime.\"Month\" AS \"ontime_Month\" \n",
      "FROM ontime \n",
      "WHERE CAST(ontime.\"ArrDelay\" AS INTEGER) >= ? AND CAST(ontime.\"Month\" AS INTEGER) = ?\n",
      "2019-11-26 15:15:54,056 INFO sqlalchemy.engine.base.Engine (180, 9)\n",
      "2019-11-26 15:16:37,786 INFO sqlalchemy.engine.base.Engine SELECT ontime.\"Month\" AS \"ontime_Month\" \n",
      "FROM ontime \n",
      "WHERE CAST(ontime.\"ArrDelay\" AS INTEGER) >= ? AND CAST(ontime.\"Month\" AS INTEGER) = ?\n",
      "2019-11-26 15:16:37,787 INFO sqlalchemy.engine.base.Engine (180, 10)\n",
      "2019-11-26 15:17:21,993 INFO sqlalchemy.engine.base.Engine SELECT ontime.\"Month\" AS \"ontime_Month\" \n",
      "FROM ontime \n",
      "WHERE CAST(ontime.\"ArrDelay\" AS INTEGER) >= ? AND CAST(ontime.\"Month\" AS INTEGER) = ?\n",
      "2019-11-26 15:17:21,994 INFO sqlalchemy.engine.base.Engine (180, 11)\n",
      "2019-11-26 15:17:55,366 INFO sqlalchemy.engine.base.Engine SELECT ontime.\"Month\" AS \"ontime_Month\" \n",
      "FROM ontime \n",
      "WHERE CAST(ontime.\"ArrDelay\" AS INTEGER) >= ? AND CAST(ontime.\"Month\" AS INTEGER) = ?\n",
      "2019-11-26 15:17:55,367 INFO sqlalchemy.engine.base.Engine (180, 12)\n"
     ]
    }
   ],
   "source": [
    "threehours = intervals(180)"
   ]
  },
  {
   "cell_type": "code",
   "execution_count": 14,
   "metadata": {},
   "outputs": [],
   "source": [
    "fivehours = intervals(300)"
   ]
  },
  {
   "cell_type": "code",
   "execution_count": 22,
   "metadata": {},
   "outputs": [
    {
     "data": {
      "image/png": "[encoded data removed]",
      "text/plain": [
       "<Figure size 432x288 with 1 Axes>"
      ]
     },
     "metadata": {
      "needs_background": "light"
     },
     "output_type": "display_data"
    }
   ],
   "source": [
    "plt.bar(onehour.keys(), onehour.values(), width=0.8, color='g')\n",
    "plt.xticks(range(len(onehour)), onehour.keys(), rotation=90)\n",
    "plt.show()"
   ]
  },
  {
   "cell_type": "code",
   "execution_count": 9,
   "metadata": {},
   "outputs": [
    {
     "data": {
      "image/png": "[encoded data removed]",
      "text/plain": [
       "<Figure size 432x288 with 1 Axes>"
      ]
     },
     "metadata": {
      "needs_background": "light"
     },
     "output_type": "display_data"
    }
   ],
   "source": [
    "plt.bar(threehours.keys(), threehours.values(), width=0.8, color='g')\n",
    "plt.xticks(range(len(threehours)), threehours.keys(), rotation=90)\n",
    "plt.show()"
   ]
  },
  {
   "cell_type": "code",
   "execution_count": 10,
   "metadata": {},
   "outputs": [
    {
     "data": {
      "image/png": "[encoded data removed]",
      "text/plain": [
       "<Figure size 432x288 with 1 Axes>"
      ]
     },
     "metadata": {
      "needs_background": "light"
     },
     "output_type": "display_data"
    }
   ],
   "source": [
    "plt.bar(fivehours.keys(), fivehours.values(), width=0.8, color='g')\n",
    "plt.xticks(range(len(fivehours)), fivehours.keys(), rotation=90)\n",
    "plt.show()"
   ]
  }
 ],
 "metadata": {
  "kernelspec": {
   "display_name": "Python 3",
   "language": "python",
   "name": "python3"
  },
  "language_info": {
   "codemirror_mode": {
    "name": "ipython",
    "version": 3
   },
   "file_extension": ".py",
   "mimetype": "text/x-python",
   "name": "python",
   "nbconvert_exporter": "python",
   "pygments_lexer": "ipython3",
   "version": "3.7.3"
  }
 },
 "nbformat": 4,
 "nbformat_minor": 2
}
