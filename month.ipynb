{
 "cells": [
  {
   "cell_type": "code",
   "execution_count": 1,
   "metadata": {},
   "outputs": [],
   "source": [
    "import sqlite3\n",
    "import sqlalchemy as db\n",
    "from sqlalchemy.orm import Session\n",
    "import matplotlib as plt\n",
    "from collections import Counter\n",
    "import operator\n",
    "\n",
    "import matplotlib.pyplot as plt"
   ]
  },
  {
   "cell_type": "code",
   "execution_count": 2,
   "metadata": {},
   "outputs": [
    {
     "name": "stdout",
     "output_type": "stream",
     "text": [
      "2019-12-01 21:54:38,125 INFO sqlalchemy.engine.base.Engine SELECT CAST('test plain returns' AS VARCHAR(60)) AS anon_1\n",
      "2019-12-01 21:54:38,126 INFO sqlalchemy.engine.base.Engine ()\n",
      "2019-12-01 21:54:38,128 INFO sqlalchemy.engine.base.Engine SELECT CAST('test unicode returns' AS VARCHAR(60)) AS anon_1\n",
      "2019-12-01 21:54:38,128 INFO sqlalchemy.engine.base.Engine ()\n",
      "2019-12-01 21:54:38,131 INFO sqlalchemy.engine.base.Engine PRAGMA table_info(\"ontime\")\n",
      "2019-12-01 21:54:38,134 INFO sqlalchemy.engine.base.Engine ()\n",
      "2019-12-01 21:54:38,138 INFO sqlalchemy.engine.base.Engine SELECT sql FROM  (SELECT * FROM sqlite_master UNION ALL   SELECT * FROM sqlite_temp_master) WHERE name = 'ontime' AND type = 'table'\n",
      "2019-12-01 21:54:38,139 INFO sqlalchemy.engine.base.Engine ()\n",
      "2019-12-01 21:54:38,142 INFO sqlalchemy.engine.base.Engine PRAGMA foreign_key_list(\"ontime\")\n",
      "2019-12-01 21:54:38,143 INFO sqlalchemy.engine.base.Engine ()\n",
      "2019-12-01 21:54:38,145 INFO sqlalchemy.engine.base.Engine SELECT sql FROM  (SELECT * FROM sqlite_master UNION ALL   SELECT * FROM sqlite_temp_master) WHERE name = 'ontime' AND type = 'table'\n",
      "2019-12-01 21:54:38,146 INFO sqlalchemy.engine.base.Engine ()\n",
      "2019-12-01 21:54:38,149 INFO sqlalchemy.engine.base.Engine PRAGMA index_list(\"ontime\")\n",
      "2019-12-01 21:54:38,150 INFO sqlalchemy.engine.base.Engine ()\n",
      "2019-12-01 21:54:38,151 INFO sqlalchemy.engine.base.Engine PRAGMA index_info(\"dest\")\n",
      "2019-12-01 21:54:38,152 INFO sqlalchemy.engine.base.Engine ()\n",
      "2019-12-01 21:54:38,153 INFO sqlalchemy.engine.base.Engine PRAGMA index_info(\"origin\")\n",
      "2019-12-01 21:54:38,155 INFO sqlalchemy.engine.base.Engine ()\n",
      "2019-12-01 21:54:38,157 INFO sqlalchemy.engine.base.Engine PRAGMA index_info(\"date\")\n",
      "2019-12-01 21:54:38,159 INFO sqlalchemy.engine.base.Engine ()\n",
      "2019-12-01 21:54:38,160 INFO sqlalchemy.engine.base.Engine PRAGMA index_info(\"year\")\n",
      "2019-12-01 21:54:38,161 INFO sqlalchemy.engine.base.Engine ()\n",
      "2019-12-01 21:54:38,164 INFO sqlalchemy.engine.base.Engine PRAGMA index_list(\"ontime\")\n",
      "2019-12-01 21:54:38,166 INFO sqlalchemy.engine.base.Engine ()\n",
      "2019-12-01 21:54:38,167 INFO sqlalchemy.engine.base.Engine PRAGMA index_info(\"dest\")\n",
      "2019-12-01 21:54:38,168 INFO sqlalchemy.engine.base.Engine ()\n",
      "2019-12-01 21:54:38,170 INFO sqlalchemy.engine.base.Engine PRAGMA index_info(\"origin\")\n",
      "2019-12-01 21:54:38,171 INFO sqlalchemy.engine.base.Engine ()\n",
      "2019-12-01 21:54:38,173 INFO sqlalchemy.engine.base.Engine PRAGMA index_info(\"date\")\n",
      "2019-12-01 21:54:38,174 INFO sqlalchemy.engine.base.Engine ()\n",
      "2019-12-01 21:54:38,176 INFO sqlalchemy.engine.base.Engine PRAGMA index_info(\"year\")\n",
      "2019-12-01 21:54:38,177 INFO sqlalchemy.engine.base.Engine ()\n",
      "2019-12-01 21:54:38,178 INFO sqlalchemy.engine.base.Engine SELECT sql FROM  (SELECT * FROM sqlite_master UNION ALL   SELECT * FROM sqlite_temp_master) WHERE name = 'ontime' AND type = 'table'\n",
      "2019-12-01 21:54:38,180 INFO sqlalchemy.engine.base.Engine ()\n"
     ]
    }
   ],
   "source": [
    "engine = db.create_engine('sqlite:///flights.sqlite3', echo=True)     #relative directory (in same folder as this notebook so no directory)\n",
    "connection = engine.connect()\n",
    "flights = db.Table('ontime', db.MetaData(), autoload=True, autoload_with=engine)\n",
    "session = Session(bind=engine)\n",
    "cols = flights.columns"
   ]
  },
  {
   "cell_type": "code",
   "execution_count": 3,
   "metadata": {},
   "outputs": [
    {
     "data": {
      "text/plain": [
       "['Year',\n",
       " 'Month',\n",
       " 'DayofMonth',\n",
       " 'DayOfWeek',\n",
       " 'DepTime',\n",
       " 'CRSDepTime',\n",
       " 'ArrTime',\n",
       " 'CRSArrTime',\n",
       " 'UniqueCarrier',\n",
       " 'FlightNum',\n",
       " 'TailNum',\n",
       " 'ActualElapsedTime',\n",
       " 'CRSElapsedTime',\n",
       " 'AirTime',\n",
       " 'ArrDelay',\n",
       " 'DepDelay',\n",
       " 'Origin',\n",
       " 'Dest',\n",
       " 'Distance',\n",
       " 'TaxiIn',\n",
       " 'TaxiOut',\n",
       " 'Cancelled',\n",
       " 'CancellationCode',\n",
       " 'Diverted',\n",
       " 'CarrierDelay',\n",
       " 'WeatherDelay',\n",
       " 'NASDelay',\n",
       " 'SecurityDelay',\n",
       " 'LateAircraftDelay']"
      ]
     },
     "execution_count": 3,
     "metadata": {},
     "output_type": "execute_result"
    }
   ],
   "source": [
    "cols.keys()"
   ]
  },
  {
   "cell_type": "code",
   "execution_count": 4,
   "metadata": {},
   "outputs": [],
   "source": [
    "def intervals(timeDelay):\n",
    "    ranges = {\n",
    "        \"Jan.\": session.query(cols.Month).filter(cols.ArrDelay.cast(db.Integer) >= timeDelay, cols.Month.cast(db.Integer) == 1 ).all(),\n",
    "        \"Feb.\": session.query(cols.Month).filter(cols.ArrDelay.cast(db.Integer) >= timeDelay, cols.Month.cast(db.Integer) == 2).all(),\n",
    "        \"Mar.\": session.query(cols.Month).filter(cols.ArrDelay.cast(db.Integer) >= timeDelay, cols.Month.cast(db.Integer) == 3).all(),\n",
    "        \"Apr.\": session.query(cols.Month).filter(cols.ArrDelay.cast(db.Integer) >= timeDelay, cols.Month.cast(db.Integer) == 4).all(),\n",
    "        \"May\": session.query(cols.Month).filter(cols.ArrDelay.cast(db.Integer) >= timeDelay, cols.Month.cast(db.Integer) == 5).all(),\n",
    "        \"June\": session.query(cols.Month).filter(cols.ArrDelay.cast(db.Integer) >= timeDelay, cols.Month.cast(db.Integer) == 6).all(),\n",
    "        \"July\": session.query(cols.Month).filter(cols.ArrDelay.cast(db.Integer) >= timeDelay, cols.Month.cast(db.Integer) == 7).all(),\n",
    "        \"Aug.\": session.query(cols.Month).filter(cols.ArrDelay.cast(db.Integer) >= timeDelay, cols.Month.cast(db.Integer) == 8).all(),\n",
    "        \"Sept.\": session.query(cols.Month).filter(cols.ArrDelay.cast(db.Integer) >= timeDelay, cols.Month.cast(db.Integer) == 9).all(),\n",
    "        \"Oct.\": session.query(cols.Month).filter(cols.ArrDelay.cast(db.Integer) >= timeDelay, cols.Month.cast(db.Integer) == 10).all(),\n",
    "        \"Nov.\": session.query(cols.Month).filter(cols.ArrDelay.cast(db.Integer) >= timeDelay, cols.Month.cast(db.Integer) == 11).all(),\n",
    "        \"Dec.\": session.query(cols.Month).filter(cols.ArrDelay.cast(db.Integer) >= timeDelay, cols.Month.cast(db.Integer) == 12).all()\n",
    "    }\n",
    "    interval_totals = {}\n",
    "    for key in ranges.keys():\n",
    "        interval_totals[key] = len(ranges[key])\n",
    "    return interval_totals"
   ]
  },
  {
   "cell_type": "code",
   "execution_count": 5,
   "metadata": {
    "scrolled": true
   },
   "outputs": [
    {
     "name": "stdout",
     "output_type": "stream",
     "text": [
      "2019-12-01 21:54:38,223 INFO sqlalchemy.engine.base.Engine BEGIN (implicit)\n",
      "2019-12-01 21:54:38,225 INFO sqlalchemy.engine.base.Engine SELECT ontime.\"Month\" AS \"ontime_Month\" \n",
      "FROM ontime \n",
      "WHERE CAST(ontime.\"ArrDelay\" AS INTEGER) >= ? AND CAST(ontime.\"Month\" AS INTEGER) = ?\n",
      "2019-12-01 21:54:38,226 INFO sqlalchemy.engine.base.Engine (60, 1)\n",
      "2019-12-01 21:55:04,910 INFO sqlalchemy.engine.base.Engine SELECT ontime.\"Month\" AS \"ontime_Month\" \n",
      "FROM ontime \n",
      "WHERE CAST(ontime.\"ArrDelay\" AS INTEGER) >= ? AND CAST(ontime.\"Month\" AS INTEGER) = ?\n",
      "2019-12-01 21:55:04,911 INFO sqlalchemy.engine.base.Engine (60, 2)\n",
      "2019-12-01 21:55:31,382 INFO sqlalchemy.engine.base.Engine SELECT ontime.\"Month\" AS \"ontime_Month\" \n",
      "FROM ontime \n",
      "WHERE CAST(ontime.\"ArrDelay\" AS INTEGER) >= ? AND CAST(ontime.\"Month\" AS INTEGER) = ?\n",
      "2019-12-01 21:55:31,382 INFO sqlalchemy.engine.base.Engine (60, 3)\n",
      "2019-12-01 21:55:54,279 INFO sqlalchemy.engine.base.Engine SELECT ontime.\"Month\" AS \"ontime_Month\" \n",
      "FROM ontime \n",
      "WHERE CAST(ontime.\"ArrDelay\" AS INTEGER) >= ? AND CAST(ontime.\"Month\" AS INTEGER) = ?\n",
      "2019-12-01 21:55:54,280 INFO sqlalchemy.engine.base.Engine (60, 4)\n",
      "2019-12-01 21:56:18,233 INFO sqlalchemy.engine.base.Engine SELECT ontime.\"Month\" AS \"ontime_Month\" \n",
      "FROM ontime \n",
      "WHERE CAST(ontime.\"ArrDelay\" AS INTEGER) >= ? AND CAST(ontime.\"Month\" AS INTEGER) = ?\n",
      "2019-12-01 21:56:18,233 INFO sqlalchemy.engine.base.Engine (60, 5)\n",
      "2019-12-01 21:56:44,546 INFO sqlalchemy.engine.base.Engine SELECT ontime.\"Month\" AS \"ontime_Month\" \n",
      "FROM ontime \n",
      "WHERE CAST(ontime.\"ArrDelay\" AS INTEGER) >= ? AND CAST(ontime.\"Month\" AS INTEGER) = ?\n",
      "2019-12-01 21:56:44,547 INFO sqlalchemy.engine.base.Engine (60, 6)\n",
      "2019-12-01 21:57:10,439 INFO sqlalchemy.engine.base.Engine SELECT ontime.\"Month\" AS \"ontime_Month\" \n",
      "FROM ontime \n",
      "WHERE CAST(ontime.\"ArrDelay\" AS INTEGER) >= ? AND CAST(ontime.\"Month\" AS INTEGER) = ?\n",
      "2019-12-01 21:57:10,440 INFO sqlalchemy.engine.base.Engine (60, 7)\n",
      "2019-12-01 21:57:38,559 INFO sqlalchemy.engine.base.Engine SELECT ontime.\"Month\" AS \"ontime_Month\" \n",
      "FROM ontime \n",
      "WHERE CAST(ontime.\"ArrDelay\" AS INTEGER) >= ? AND CAST(ontime.\"Month\" AS INTEGER) = ?\n",
      "2019-12-01 21:57:38,560 INFO sqlalchemy.engine.base.Engine (60, 8)\n",
      "2019-12-01 21:58:03,093 INFO sqlalchemy.engine.base.Engine SELECT ontime.\"Month\" AS \"ontime_Month\" \n",
      "FROM ontime \n",
      "WHERE CAST(ontime.\"ArrDelay\" AS INTEGER) >= ? AND CAST(ontime.\"Month\" AS INTEGER) = ?\n",
      "2019-12-01 21:58:03,094 INFO sqlalchemy.engine.base.Engine (60, 9)\n",
      "2019-12-01 21:58:29,547 INFO sqlalchemy.engine.base.Engine SELECT ontime.\"Month\" AS \"ontime_Month\" \n",
      "FROM ontime \n",
      "WHERE CAST(ontime.\"ArrDelay\" AS INTEGER) >= ? AND CAST(ontime.\"Month\" AS INTEGER) = ?\n",
      "2019-12-01 21:58:29,547 INFO sqlalchemy.engine.base.Engine (60, 10)\n",
      "2019-12-01 21:58:54,487 INFO sqlalchemy.engine.base.Engine SELECT ontime.\"Month\" AS \"ontime_Month\" \n",
      "FROM ontime \n",
      "WHERE CAST(ontime.\"ArrDelay\" AS INTEGER) >= ? AND CAST(ontime.\"Month\" AS INTEGER) = ?\n",
      "2019-12-01 21:58:54,487 INFO sqlalchemy.engine.base.Engine (60, 11)\n",
      "2019-12-01 21:59:18,175 INFO sqlalchemy.engine.base.Engine SELECT ontime.\"Month\" AS \"ontime_Month\" \n",
      "FROM ontime \n",
      "WHERE CAST(ontime.\"ArrDelay\" AS INTEGER) >= ? AND CAST(ontime.\"Month\" AS INTEGER) = ?\n",
      "2019-12-01 21:59:18,176 INFO sqlalchemy.engine.base.Engine (60, 12)\n"
     ]
    }
   ],
   "source": [
    "onehour = intervals(60)"
   ]
  },
  {
   "cell_type": "code",
   "execution_count": 6,
   "metadata": {},
   "outputs": [
    {
     "name": "stdout",
     "output_type": "stream",
     "text": [
      "2019-12-01 21:59:45,590 INFO sqlalchemy.engine.base.Engine SELECT ontime.\"Month\" AS \"ontime_Month\" \n",
      "FROM ontime \n",
      "WHERE CAST(ontime.\"ArrDelay\" AS INTEGER) >= ? AND CAST(ontime.\"Month\" AS INTEGER) = ?\n",
      "2019-12-01 21:59:45,592 INFO sqlalchemy.engine.base.Engine (180, 1)\n",
      "2019-12-01 22:00:10,696 INFO sqlalchemy.engine.base.Engine SELECT ontime.\"Month\" AS \"ontime_Month\" \n",
      "FROM ontime \n",
      "WHERE CAST(ontime.\"ArrDelay\" AS INTEGER) >= ? AND CAST(ontime.\"Month\" AS INTEGER) = ?\n",
      "2019-12-01 22:00:10,696 INFO sqlalchemy.engine.base.Engine (180, 2)\n",
      "2019-12-01 22:00:33,589 INFO sqlalchemy.engine.base.Engine SELECT ontime.\"Month\" AS \"ontime_Month\" \n",
      "FROM ontime \n",
      "WHERE CAST(ontime.\"ArrDelay\" AS INTEGER) >= ? AND CAST(ontime.\"Month\" AS INTEGER) = ?\n",
      "2019-12-01 22:00:33,589 INFO sqlalchemy.engine.base.Engine (180, 3)\n",
      "2019-12-01 22:01:03,446 INFO sqlalchemy.engine.base.Engine SELECT ontime.\"Month\" AS \"ontime_Month\" \n",
      "FROM ontime \n",
      "WHERE CAST(ontime.\"ArrDelay\" AS INTEGER) >= ? AND CAST(ontime.\"Month\" AS INTEGER) = ?\n",
      "2019-12-01 22:01:03,446 INFO sqlalchemy.engine.base.Engine (180, 4)\n",
      "2019-12-01 22:01:36,313 INFO sqlalchemy.engine.base.Engine SELECT ontime.\"Month\" AS \"ontime_Month\" \n",
      "FROM ontime \n",
      "WHERE CAST(ontime.\"ArrDelay\" AS INTEGER) >= ? AND CAST(ontime.\"Month\" AS INTEGER) = ?\n",
      "2019-12-01 22:01:36,320 INFO sqlalchemy.engine.base.Engine (180, 5)\n",
      "2019-12-01 22:02:01,214 INFO sqlalchemy.engine.base.Engine SELECT ontime.\"Month\" AS \"ontime_Month\" \n",
      "FROM ontime \n",
      "WHERE CAST(ontime.\"ArrDelay\" AS INTEGER) >= ? AND CAST(ontime.\"Month\" AS INTEGER) = ?\n",
      "2019-12-01 22:02:01,215 INFO sqlalchemy.engine.base.Engine (180, 6)\n",
      "2019-12-01 22:02:38,066 INFO sqlalchemy.engine.base.Engine SELECT ontime.\"Month\" AS \"ontime_Month\" \n",
      "FROM ontime \n",
      "WHERE CAST(ontime.\"ArrDelay\" AS INTEGER) >= ? AND CAST(ontime.\"Month\" AS INTEGER) = ?\n",
      "2019-12-01 22:02:38,067 INFO sqlalchemy.engine.base.Engine (180, 7)\n",
      "2019-12-01 22:03:02,659 INFO sqlalchemy.engine.base.Engine SELECT ontime.\"Month\" AS \"ontime_Month\" \n",
      "FROM ontime \n",
      "WHERE CAST(ontime.\"ArrDelay\" AS INTEGER) >= ? AND CAST(ontime.\"Month\" AS INTEGER) = ?\n",
      "2019-12-01 22:03:02,679 INFO sqlalchemy.engine.base.Engine (180, 8)\n",
      "2019-12-01 22:03:31,466 INFO sqlalchemy.engine.base.Engine SELECT ontime.\"Month\" AS \"ontime_Month\" \n",
      "FROM ontime \n",
      "WHERE CAST(ontime.\"ArrDelay\" AS INTEGER) >= ? AND CAST(ontime.\"Month\" AS INTEGER) = ?\n",
      "2019-12-01 22:03:31,472 INFO sqlalchemy.engine.base.Engine (180, 9)\n",
      "2019-12-01 22:03:58,093 INFO sqlalchemy.engine.base.Engine SELECT ontime.\"Month\" AS \"ontime_Month\" \n",
      "FROM ontime \n",
      "WHERE CAST(ontime.\"ArrDelay\" AS INTEGER) >= ? AND CAST(ontime.\"Month\" AS INTEGER) = ?\n",
      "2019-12-01 22:03:58,099 INFO sqlalchemy.engine.base.Engine (180, 10)\n",
      "2019-12-01 22:04:23,883 INFO sqlalchemy.engine.base.Engine SELECT ontime.\"Month\" AS \"ontime_Month\" \n",
      "FROM ontime \n",
      "WHERE CAST(ontime.\"ArrDelay\" AS INTEGER) >= ? AND CAST(ontime.\"Month\" AS INTEGER) = ?\n",
      "2019-12-01 22:04:23,889 INFO sqlalchemy.engine.base.Engine (180, 11)\n",
      "2019-12-01 22:04:46,704 INFO sqlalchemy.engine.base.Engine SELECT ontime.\"Month\" AS \"ontime_Month\" \n",
      "FROM ontime \n",
      "WHERE CAST(ontime.\"ArrDelay\" AS INTEGER) >= ? AND CAST(ontime.\"Month\" AS INTEGER) = ?\n",
      "2019-12-01 22:04:46,706 INFO sqlalchemy.engine.base.Engine (180, 12)\n"
     ]
    }
   ],
   "source": [
    "threehours = intervals(180)"
   ]
  },
  {
   "cell_type": "code",
   "execution_count": 7,
   "metadata": {},
   "outputs": [
    {
     "name": "stdout",
     "output_type": "stream",
     "text": [
      "2019-12-01 22:05:09,005 INFO sqlalchemy.engine.base.Engine SELECT ontime.\"Month\" AS \"ontime_Month\" \n",
      "FROM ontime \n",
      "WHERE CAST(ontime.\"ArrDelay\" AS INTEGER) >= ? AND CAST(ontime.\"Month\" AS INTEGER) = ?\n",
      "2019-12-01 22:05:09,009 INFO sqlalchemy.engine.base.Engine (300, 1)\n",
      "2019-12-01 22:05:32,365 INFO sqlalchemy.engine.base.Engine SELECT ontime.\"Month\" AS \"ontime_Month\" \n",
      "FROM ontime \n",
      "WHERE CAST(ontime.\"ArrDelay\" AS INTEGER) >= ? AND CAST(ontime.\"Month\" AS INTEGER) = ?\n",
      "2019-12-01 22:05:32,373 INFO sqlalchemy.engine.base.Engine (300, 2)\n",
      "2019-12-01 22:05:55,206 INFO sqlalchemy.engine.base.Engine SELECT ontime.\"Month\" AS \"ontime_Month\" \n",
      "FROM ontime \n",
      "WHERE CAST(ontime.\"ArrDelay\" AS INTEGER) >= ? AND CAST(ontime.\"Month\" AS INTEGER) = ?\n",
      "2019-12-01 22:05:55,219 INFO sqlalchemy.engine.base.Engine (300, 3)\n",
      "2019-12-01 22:06:20,980 INFO sqlalchemy.engine.base.Engine SELECT ontime.\"Month\" AS \"ontime_Month\" \n",
      "FROM ontime \n",
      "WHERE CAST(ontime.\"ArrDelay\" AS INTEGER) >= ? AND CAST(ontime.\"Month\" AS INTEGER) = ?\n",
      "2019-12-01 22:06:20,988 INFO sqlalchemy.engine.base.Engine (300, 4)\n",
      "2019-12-01 22:06:46,094 INFO sqlalchemy.engine.base.Engine SELECT ontime.\"Month\" AS \"ontime_Month\" \n",
      "FROM ontime \n",
      "WHERE CAST(ontime.\"ArrDelay\" AS INTEGER) >= ? AND CAST(ontime.\"Month\" AS INTEGER) = ?\n",
      "2019-12-01 22:06:46,113 INFO sqlalchemy.engine.base.Engine (300, 5)\n",
      "2019-12-01 22:07:10,236 INFO sqlalchemy.engine.base.Engine SELECT ontime.\"Month\" AS \"ontime_Month\" \n",
      "FROM ontime \n",
      "WHERE CAST(ontime.\"ArrDelay\" AS INTEGER) >= ? AND CAST(ontime.\"Month\" AS INTEGER) = ?\n",
      "2019-12-01 22:07:10,244 INFO sqlalchemy.engine.base.Engine (300, 6)\n",
      "2019-12-01 22:07:34,054 INFO sqlalchemy.engine.base.Engine SELECT ontime.\"Month\" AS \"ontime_Month\" \n",
      "FROM ontime \n",
      "WHERE CAST(ontime.\"ArrDelay\" AS INTEGER) >= ? AND CAST(ontime.\"Month\" AS INTEGER) = ?\n",
      "2019-12-01 22:07:34,080 INFO sqlalchemy.engine.base.Engine (300, 7)\n",
      "2019-12-01 22:07:59,184 INFO sqlalchemy.engine.base.Engine SELECT ontime.\"Month\" AS \"ontime_Month\" \n",
      "FROM ontime \n",
      "WHERE CAST(ontime.\"ArrDelay\" AS INTEGER) >= ? AND CAST(ontime.\"Month\" AS INTEGER) = ?\n",
      "2019-12-01 22:07:59,212 INFO sqlalchemy.engine.base.Engine (300, 8)\n",
      "2019-12-01 22:08:26,940 INFO sqlalchemy.engine.base.Engine SELECT ontime.\"Month\" AS \"ontime_Month\" \n",
      "FROM ontime \n",
      "WHERE CAST(ontime.\"ArrDelay\" AS INTEGER) >= ? AND CAST(ontime.\"Month\" AS INTEGER) = ?\n",
      "2019-12-01 22:08:26,959 INFO sqlalchemy.engine.base.Engine (300, 9)\n",
      "2019-12-01 22:08:55,565 INFO sqlalchemy.engine.base.Engine SELECT ontime.\"Month\" AS \"ontime_Month\" \n",
      "FROM ontime \n",
      "WHERE CAST(ontime.\"ArrDelay\" AS INTEGER) >= ? AND CAST(ontime.\"Month\" AS INTEGER) = ?\n",
      "2019-12-01 22:08:55,581 INFO sqlalchemy.engine.base.Engine (300, 10)\n",
      "2019-12-01 22:09:21,883 INFO sqlalchemy.engine.base.Engine SELECT ontime.\"Month\" AS \"ontime_Month\" \n",
      "FROM ontime \n",
      "WHERE CAST(ontime.\"ArrDelay\" AS INTEGER) >= ? AND CAST(ontime.\"Month\" AS INTEGER) = ?\n",
      "2019-12-01 22:09:21,894 INFO sqlalchemy.engine.base.Engine (300, 11)\n",
      "2019-12-01 22:09:44,963 INFO sqlalchemy.engine.base.Engine SELECT ontime.\"Month\" AS \"ontime_Month\" \n",
      "FROM ontime \n",
      "WHERE CAST(ontime.\"ArrDelay\" AS INTEGER) >= ? AND CAST(ontime.\"Month\" AS INTEGER) = ?\n",
      "2019-12-01 22:09:44,973 INFO sqlalchemy.engine.base.Engine (300, 12)\n"
     ]
    }
   ],
   "source": [
    "fivehours = intervals(300)"
   ]
  },
  {
   "cell_type": "code",
   "execution_count": 11,
   "metadata": {},
   "outputs": [
    {
     "data": {
      "image/png": "[encoded data removed]",
      "text/plain": [
       "<Figure size 432x288 with 1 Axes>"
      ]
     },
     "metadata": {
      "needs_background": "light"
     },
     "output_type": "display_data"
    }
   ],
   "source": [
    "import matplotlib.pyplot as plt\n",
    "plt.bar(onehour.keys(), onehour.values(), width=0.8, color='g')\n",
    "plt.xticks(range(len(onehour)), onehour.keys(), rotation=90)\n",
    "plt.title(\"Month of year vs. one hour delays from 2000-2008\")\n",
    "plt.xlabel(\"Month\")\n",
    "plt.ylabel(\"Delays\")\n",
    "plt.show()"
   ]
  },
  {
   "cell_type": "code",
   "execution_count": 15,
   "metadata": {},
   "outputs": [
    {
     "data": {
      "image/png": "[encoded data removed]",
      "text/plain": [
       "<Figure size 432x288 with 1 Axes>"
      ]
     },
     "metadata": {
      "needs_background": "light"
     },
     "output_type": "display_data"
    }
   ],
   "source": [
    "plt.bar(threehours.keys(), threehours.values(), width=0.8, color='y')\n",
    "plt.xticks(range(len(threehours)), threehours.keys(), rotation=90)\n",
    "plt.title(\"Month of year vs. three hour delays from 2000-2008\")\n",
    "plt.xlabel(\"Month\")\n",
    "plt.ylabel(\"Delays\")\n",
    "plt.show()"
   ]
  },
  {
   "cell_type": "code",
   "execution_count": 16,
   "metadata": {
    "scrolled": true
   },
   "outputs": [
    {
     "data": {
      "image/png": "[encoded data removed]",
      "text/plain": [
       "<Figure size 432x288 with 1 Axes>"
      ]
     },
     "metadata": {
      "needs_background": "light"
     },
     "output_type": "display_data"
    }
   ],
   "source": [
    "plt.bar(fivehours.keys(), fivehours.values(), width=0.8, color='r')\n",
    "plt.xticks(range(len(fivehours)), fivehours.keys(), rotation=90)\n",
    "plt.title(\"Month of year vs. five hour delays from 2000-2008\")\n",
    "plt.xlabel(\"Month\")\n",
    "plt.ylabel(\"Delays\")\n",
    "plt.show()"
   ]
  },
  {
   "cell_type": "code",
   "execution_count": null,
   "metadata": {},
   "outputs": [],
   "source": []
  }
 ],
 "metadata": {
  "kernelspec": {
   "display_name": "Python 3",
   "language": "python",
   "name": "python3"
  },
  "language_info": {
   "codemirror_mode": {
    "name": "ipython",
    "version": 3
   },
   "file_extension": ".py",
   "mimetype": "text/x-python",
   "name": "python",
   "nbconvert_exporter": "python",
   "pygments_lexer": "ipython3",
   "version": "3.7.3"
  }
 },
 "nbformat": 4,
 "nbformat_minor": 2
}
