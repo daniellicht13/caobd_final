{
 "cells": [
  {
   "cell_type": "code",
   "execution_count": 1,
   "metadata": {},
   "outputs": [],
   "source": [
    "import pandas as pd\n",
    "import sqlite3\n",
    "import sqlalchemy as db\n",
    "from sqlalchemy.orm import Session\n",
    "import matplotlib as plt\n",
    "from collections import Counter\n",
    "import operator\n",
    "\n",
    "import matplotlib.pyplot as plt"
   ]
  },
  {
   "cell_type": "code",
   "execution_count": 2,
   "metadata": {},
   "outputs": [
    {
     "name": "stdout",
     "output_type": "stream",
     "text": [
      "2019-12-02 21:56:55,233 INFO sqlalchemy.engine.base.Engine SELECT CAST('test plain returns' AS VARCHAR(60)) AS anon_1\n",
      "2019-12-02 21:56:55,234 INFO sqlalchemy.engine.base.Engine ()\n",
      "2019-12-02 21:56:55,235 INFO sqlalchemy.engine.base.Engine SELECT CAST('test unicode returns' AS VARCHAR(60)) AS anon_1\n",
      "2019-12-02 21:56:55,236 INFO sqlalchemy.engine.base.Engine ()\n",
      "2019-12-02 21:56:55,238 INFO sqlalchemy.engine.base.Engine PRAGMA main.table_info(\"ontime\")\n",
      "2019-12-02 21:56:55,240 INFO sqlalchemy.engine.base.Engine ()\n",
      "2019-12-02 21:56:55,246 INFO sqlalchemy.engine.base.Engine SELECT sql FROM  (SELECT * FROM sqlite_master UNION ALL   SELECT * FROM sqlite_temp_master) WHERE name = 'ontime' AND type = 'table'\n",
      "2019-12-02 21:56:55,249 INFO sqlalchemy.engine.base.Engine ()\n",
      "2019-12-02 21:56:55,254 INFO sqlalchemy.engine.base.Engine PRAGMA main.foreign_key_list(\"ontime\")\n",
      "2019-12-02 21:56:55,255 INFO sqlalchemy.engine.base.Engine ()\n",
      "2019-12-02 21:56:55,259 INFO sqlalchemy.engine.base.Engine PRAGMA temp.foreign_key_list(\"ontime\")\n",
      "2019-12-02 21:56:55,260 INFO sqlalchemy.engine.base.Engine ()\n",
      "2019-12-02 21:56:55,262 INFO sqlalchemy.engine.base.Engine SELECT sql FROM  (SELECT * FROM sqlite_master UNION ALL   SELECT * FROM sqlite_temp_master) WHERE name = 'ontime' AND type = 'table'\n",
      "2019-12-02 21:56:55,264 INFO sqlalchemy.engine.base.Engine ()\n",
      "2019-12-02 21:56:55,267 INFO sqlalchemy.engine.base.Engine PRAGMA main.index_list(\"ontime\")\n",
      "2019-12-02 21:56:55,270 INFO sqlalchemy.engine.base.Engine ()\n",
      "2019-12-02 21:56:55,272 INFO sqlalchemy.engine.base.Engine PRAGMA main.index_info(\"dest\")\n",
      "2019-12-02 21:56:55,274 INFO sqlalchemy.engine.base.Engine ()\n",
      "2019-12-02 21:56:55,277 INFO sqlalchemy.engine.base.Engine PRAGMA main.index_info(\"origin\")\n",
      "2019-12-02 21:56:55,279 INFO sqlalchemy.engine.base.Engine ()\n",
      "2019-12-02 21:56:55,280 INFO sqlalchemy.engine.base.Engine PRAGMA main.index_info(\"date\")\n",
      "2019-12-02 21:56:55,282 INFO sqlalchemy.engine.base.Engine ()\n",
      "2019-12-02 21:56:55,283 INFO sqlalchemy.engine.base.Engine PRAGMA main.index_info(\"year\")\n",
      "2019-12-02 21:56:55,285 INFO sqlalchemy.engine.base.Engine ()\n",
      "2019-12-02 21:56:55,290 INFO sqlalchemy.engine.base.Engine PRAGMA main.index_list(\"ontime\")\n",
      "2019-12-02 21:56:55,291 INFO sqlalchemy.engine.base.Engine ()\n",
      "2019-12-02 21:56:55,295 INFO sqlalchemy.engine.base.Engine PRAGMA main.index_info(\"dest\")\n",
      "2019-12-02 21:56:55,295 INFO sqlalchemy.engine.base.Engine ()\n",
      "2019-12-02 21:56:55,297 INFO sqlalchemy.engine.base.Engine PRAGMA main.index_info(\"origin\")\n",
      "2019-12-02 21:56:55,298 INFO sqlalchemy.engine.base.Engine ()\n",
      "2019-12-02 21:56:55,300 INFO sqlalchemy.engine.base.Engine PRAGMA main.index_info(\"date\")\n",
      "2019-12-02 21:56:55,303 INFO sqlalchemy.engine.base.Engine ()\n",
      "2019-12-02 21:56:55,309 INFO sqlalchemy.engine.base.Engine PRAGMA main.index_info(\"year\")\n",
      "2019-12-02 21:56:55,311 INFO sqlalchemy.engine.base.Engine ()\n",
      "2019-12-02 21:56:55,312 INFO sqlalchemy.engine.base.Engine SELECT sql FROM  (SELECT * FROM sqlite_master UNION ALL   SELECT * FROM sqlite_temp_master) WHERE name = 'ontime' AND type = 'table'\n",
      "2019-12-02 21:56:55,314 INFO sqlalchemy.engine.base.Engine ()\n"
     ]
    }
   ],
   "source": [
    "engine = db.create_engine('sqlite:///flights.sqlite3', echo=True)     #relative directory (in same folder as this notebook so no directory)\n",
    "connection = engine.connect()\n",
    "flights = db.Table('ontime', db.MetaData(), autoload=True, autoload_with=engine)\n",
    "session = Session(bind=engine)\n",
    "cols = flights.columns"
   ]
  },
  {
   "cell_type": "code",
   "execution_count": 3,
   "metadata": {},
   "outputs": [],
   "source": [
    "def intervals(timeDelay):\n",
    "    ranges = {\n",
    "        \"12:00AM-5:59AM\": session.query(cols.CRSDepTime).filter(cols.ArrDelay.cast(db.Integer) >= timeDelay, cols.CRSDepTime.cast(db.Integer) < 600).all(),\n",
    "        \"6:00AM-6:59AM\": session.query(cols.CRSDepTime).filter(cols.ArrDelay.cast(db.Integer) >= timeDelay, cols.CRSDepTime.cast(db.Integer) > 559, cols.CRSDepTime.cast(db.Integer) < 700).all(),\n",
    "        \"7:00AM-7:59AM\": session.query(cols.CRSDepTime).filter(cols.ArrDelay.cast(db.Integer) >= timeDelay, cols.CRSDepTime.cast(db.Integer) > 659, cols.CRSDepTime.cast(db.Integer) < 800).all(),\n",
    "        \"8:00AM-8:59AM\": session.query(cols.CRSDepTime).filter(cols.ArrDelay.cast(db.Integer) >= timeDelay, cols.CRSDepTime.cast(db.Integer) > 759, cols.CRSDepTime.cast(db.Integer) < 900).all(),\n",
    "        \"9:00AM-9:59AM\": session.query(cols.CRSDepTime).filter(cols.ArrDelay.cast(db.Integer) >= timeDelay, cols.CRSDepTime.cast(db.Integer) > 859, cols.CRSDepTime.cast(db.Integer) < 1000).all(),\n",
    "        \"10:00AM-10:59AM\": session.query(cols.CRSDepTime).filter(cols.ArrDelay.cast(db.Integer) >= timeDelay, cols.CRSDepTime.cast(db.Integer) > 959, cols.CRSDepTime.cast(db.Integer) < 1100).all(),\n",
    "        \"11:00AM-11:59AM\": session.query(cols.CRSDepTime).filter(cols.ArrDelay.cast(db.Integer) >= timeDelay, cols.CRSDepTime.cast(db.Integer) > 1059, cols.CRSDepTime.cast(db.Integer) < 1200).all(),\n",
    "        \"12:00PM-12:59PM\": session.query(cols.CRSDepTime).filter(cols.ArrDelay.cast(db.Integer) >= timeDelay, cols.CRSDepTime.cast(db.Integer) > 1159, cols.CRSDepTime.cast(db.Integer) < 1300).all(),\n",
    "        \"1:00PM-1:59PM\": session.query(cols.CRSDepTime).filter(cols.ArrDelay.cast(db.Integer) >= timeDelay, cols.CRSDepTime.cast(db.Integer) > 1259, cols.CRSDepTime.cast(db.Integer) < 1400).all(),\n",
    "        \"2:00PM-2:59PM\": session.query(cols.CRSDepTime).filter(cols.ArrDelay.cast(db.Integer) >= timeDelay, cols.CRSDepTime.cast(db.Integer) > 1359, cols.CRSDepTime.cast(db.Integer) < 1500).all(),\n",
    "        \"3:00PM-3:59PM\": session.query(cols.CRSDepTime).filter(cols.ArrDelay.cast(db.Integer) >= timeDelay, cols.CRSDepTime.cast(db.Integer) > 1459, cols.CRSDepTime.cast(db.Integer) < 1600).all(),\n",
    "        \"4:00PM-4:59PM\": session.query(cols.CRSDepTime).filter(cols.ArrDelay.cast(db.Integer) >= timeDelay, cols.CRSDepTime.cast(db.Integer) > 1559, cols.CRSDepTime.cast(db.Integer) < 1700).all(),\n",
    "        \"5:00PM-5:59PM\": session.query(cols.CRSDepTime).filter(cols.ArrDelay.cast(db.Integer) >= timeDelay, cols.CRSDepTime.cast(db.Integer) > 1659, cols.CRSDepTime.cast(db.Integer) < 1800).all(),\n",
    "        \"6:00PM-6:59PM\": session.query(cols.CRSDepTime).filter(cols.ArrDelay.cast(db.Integer) >= timeDelay, cols.CRSDepTime.cast(db.Integer) > 1759, cols.CRSDepTime.cast(db.Integer) < 1900).all(),\n",
    "        \"7:00PM-7:59PM\": session.query(cols.CRSDepTime).filter(cols.ArrDelay.cast(db.Integer) >= timeDelay, cols.CRSDepTime.cast(db.Integer) > 1859, cols.CRSDepTime.cast(db.Integer) < 2000).all(),\n",
    "        \"8:00PM-8:59PM\": session.query(cols.CRSDepTime).filter(cols.ArrDelay.cast(db.Integer) >= timeDelay, cols.CRSDepTime.cast(db.Integer) > 1959, cols.CRSDepTime.cast(db.Integer) < 2100).all(),\n",
    "        \"9:00PM-9:59PM\": session.query(cols.CRSDepTime).filter(cols.ArrDelay.cast(db.Integer) >= timeDelay, cols.CRSDepTime.cast(db.Integer) > 2059, cols.CRSDepTime.cast(db.Integer) < 2200).all(),\n",
    "        \"10:00PM-10:59PM\": session.query(cols.CRSDepTime).filter(cols.ArrDelay.cast(db.Integer) >= timeDelay, cols.CRSDepTime.cast(db.Integer) > 2159, cols.CRSDepTime.cast(db.Integer) < 2300).all(),\n",
    "        \"11:00PM-11:59PM\": session.query(cols.CRSDepTime).filter(cols.ArrDelay.cast(db.Integer) >= timeDelay, cols.CRSDepTime.cast(db.Integer) > 2259).all()\n",
    "    }\n",
    "    interval_totals = {}\n",
    "    for key in ranges.keys():\n",
    "        interval_totals[key] = len(ranges[key])\n",
    "    return interval_totals"
   ]
  },
  {
   "cell_type": "code",
   "execution_count": 4,
   "metadata": {
    "scrolled": true
   },
   "outputs": [
    {
     "name": "stdout",
     "output_type": "stream",
     "text": [
      "2019-12-02 21:56:55,374 INFO sqlalchemy.engine.base.Engine BEGIN (implicit)\n",
      "2019-12-02 21:56:55,377 INFO sqlalchemy.engine.base.Engine SELECT ontime.\"CRSDepTime\" AS \"ontime_CRSDepTime\" \n",
      "FROM ontime \n",
      "WHERE CAST(ontime.\"ArrDelay\" AS INTEGER) >= ? AND CAST(ontime.\"CRSDepTime\" AS INTEGER) < ?\n",
      "2019-12-02 21:56:55,378 INFO sqlalchemy.engine.base.Engine (60, 600)\n",
      "2019-12-02 21:57:24,873 INFO sqlalchemy.engine.base.Engine SELECT ontime.\"CRSDepTime\" AS \"ontime_CRSDepTime\" \n",
      "FROM ontime \n",
      "WHERE CAST(ontime.\"ArrDelay\" AS INTEGER) >= ? AND CAST(ontime.\"CRSDepTime\" AS INTEGER) > ? AND CAST(ontime.\"CRSDepTime\" AS INTEGER) < ?\n",
      "2019-12-02 21:57:24,877 INFO sqlalchemy.engine.base.Engine (60, 559, 700)\n",
      "2019-12-02 21:57:50,403 INFO sqlalchemy.engine.base.Engine SELECT ontime.\"CRSDepTime\" AS \"ontime_CRSDepTime\" \n",
      "FROM ontime \n",
      "WHERE CAST(ontime.\"ArrDelay\" AS INTEGER) >= ? AND CAST(ontime.\"CRSDepTime\" AS INTEGER) > ? AND CAST(ontime.\"CRSDepTime\" AS INTEGER) < ?\n",
      "2019-12-02 21:57:50,404 INFO sqlalchemy.engine.base.Engine (60, 659, 800)\n",
      "2019-12-02 21:58:14,020 INFO sqlalchemy.engine.base.Engine SELECT ontime.\"CRSDepTime\" AS \"ontime_CRSDepTime\" \n",
      "FROM ontime \n",
      "WHERE CAST(ontime.\"ArrDelay\" AS INTEGER) >= ? AND CAST(ontime.\"CRSDepTime\" AS INTEGER) > ? AND CAST(ontime.\"CRSDepTime\" AS INTEGER) < ?\n",
      "2019-12-02 21:58:14,021 INFO sqlalchemy.engine.base.Engine (60, 759, 900)\n",
      "2019-12-02 21:58:38,111 INFO sqlalchemy.engine.base.Engine SELECT ontime.\"CRSDepTime\" AS \"ontime_CRSDepTime\" \n",
      "FROM ontime \n",
      "WHERE CAST(ontime.\"ArrDelay\" AS INTEGER) >= ? AND CAST(ontime.\"CRSDepTime\" AS INTEGER) > ? AND CAST(ontime.\"CRSDepTime\" AS INTEGER) < ?\n",
      "2019-12-02 21:58:38,112 INFO sqlalchemy.engine.base.Engine (60, 859, 1000)\n",
      "2019-12-02 21:59:05,945 INFO sqlalchemy.engine.base.Engine SELECT ontime.\"CRSDepTime\" AS \"ontime_CRSDepTime\" \n",
      "FROM ontime \n",
      "WHERE CAST(ontime.\"ArrDelay\" AS INTEGER) >= ? AND CAST(ontime.\"CRSDepTime\" AS INTEGER) > ? AND CAST(ontime.\"CRSDepTime\" AS INTEGER) < ?\n",
      "2019-12-02 21:59:05,946 INFO sqlalchemy.engine.base.Engine (60, 959, 1100)\n",
      "2019-12-02 21:59:31,995 INFO sqlalchemy.engine.base.Engine SELECT ontime.\"CRSDepTime\" AS \"ontime_CRSDepTime\" \n",
      "FROM ontime \n",
      "WHERE CAST(ontime.\"ArrDelay\" AS INTEGER) >= ? AND CAST(ontime.\"CRSDepTime\" AS INTEGER) > ? AND CAST(ontime.\"CRSDepTime\" AS INTEGER) < ?\n",
      "2019-12-02 21:59:31,996 INFO sqlalchemy.engine.base.Engine (60, 1059, 1200)\n",
      "2019-12-02 21:59:58,577 INFO sqlalchemy.engine.base.Engine SELECT ontime.\"CRSDepTime\" AS \"ontime_CRSDepTime\" \n",
      "FROM ontime \n",
      "WHERE CAST(ontime.\"ArrDelay\" AS INTEGER) >= ? AND CAST(ontime.\"CRSDepTime\" AS INTEGER) > ? AND CAST(ontime.\"CRSDepTime\" AS INTEGER) < ?\n",
      "2019-12-02 21:59:58,578 INFO sqlalchemy.engine.base.Engine (60, 1159, 1300)\n",
      "2019-12-02 22:00:25,041 INFO sqlalchemy.engine.base.Engine SELECT ontime.\"CRSDepTime\" AS \"ontime_CRSDepTime\" \n",
      "FROM ontime \n",
      "WHERE CAST(ontime.\"ArrDelay\" AS INTEGER) >= ? AND CAST(ontime.\"CRSDepTime\" AS INTEGER) > ? AND CAST(ontime.\"CRSDepTime\" AS INTEGER) < ?\n",
      "2019-12-02 22:00:25,042 INFO sqlalchemy.engine.base.Engine (60, 1259, 1400)\n",
      "2019-12-02 22:00:47,937 INFO sqlalchemy.engine.base.Engine SELECT ontime.\"CRSDepTime\" AS \"ontime_CRSDepTime\" \n",
      "FROM ontime \n",
      "WHERE CAST(ontime.\"ArrDelay\" AS INTEGER) >= ? AND CAST(ontime.\"CRSDepTime\" AS INTEGER) > ? AND CAST(ontime.\"CRSDepTime\" AS INTEGER) < ?\n",
      "2019-12-02 22:00:47,938 INFO sqlalchemy.engine.base.Engine (60, 1359, 1500)\n",
      "2019-12-02 22:01:12,770 INFO sqlalchemy.engine.base.Engine SELECT ontime.\"CRSDepTime\" AS \"ontime_CRSDepTime\" \n",
      "FROM ontime \n",
      "WHERE CAST(ontime.\"ArrDelay\" AS INTEGER) >= ? AND CAST(ontime.\"CRSDepTime\" AS INTEGER) > ? AND CAST(ontime.\"CRSDepTime\" AS INTEGER) < ?\n",
      "2019-12-02 22:01:12,770 INFO sqlalchemy.engine.base.Engine (60, 1459, 1600)\n",
      "2019-12-02 22:01:38,425 INFO sqlalchemy.engine.base.Engine SELECT ontime.\"CRSDepTime\" AS \"ontime_CRSDepTime\" \n",
      "FROM ontime \n",
      "WHERE CAST(ontime.\"ArrDelay\" AS INTEGER) >= ? AND CAST(ontime.\"CRSDepTime\" AS INTEGER) > ? AND CAST(ontime.\"CRSDepTime\" AS INTEGER) < ?\n",
      "2019-12-02 22:01:38,425 INFO sqlalchemy.engine.base.Engine (60, 1559, 1700)\n",
      "2019-12-02 22:02:02,696 INFO sqlalchemy.engine.base.Engine SELECT ontime.\"CRSDepTime\" AS \"ontime_CRSDepTime\" \n",
      "FROM ontime \n",
      "WHERE CAST(ontime.\"ArrDelay\" AS INTEGER) >= ? AND CAST(ontime.\"CRSDepTime\" AS INTEGER) > ? AND CAST(ontime.\"CRSDepTime\" AS INTEGER) < ?\n",
      "2019-12-02 22:02:02,697 INFO sqlalchemy.engine.base.Engine (60, 1659, 1800)\n",
      "2019-12-02 22:02:28,538 INFO sqlalchemy.engine.base.Engine SELECT ontime.\"CRSDepTime\" AS \"ontime_CRSDepTime\" \n",
      "FROM ontime \n",
      "WHERE CAST(ontime.\"ArrDelay\" AS INTEGER) >= ? AND CAST(ontime.\"CRSDepTime\" AS INTEGER) > ? AND CAST(ontime.\"CRSDepTime\" AS INTEGER) < ?\n",
      "2019-12-02 22:02:28,539 INFO sqlalchemy.engine.base.Engine (60, 1759, 1900)\n",
      "2019-12-02 22:02:54,073 INFO sqlalchemy.engine.base.Engine SELECT ontime.\"CRSDepTime\" AS \"ontime_CRSDepTime\" \n",
      "FROM ontime \n",
      "WHERE CAST(ontime.\"ArrDelay\" AS INTEGER) >= ? AND CAST(ontime.\"CRSDepTime\" AS INTEGER) > ? AND CAST(ontime.\"CRSDepTime\" AS INTEGER) < ?\n",
      "2019-12-02 22:02:54,074 INFO sqlalchemy.engine.base.Engine (60, 1859, 2000)\n",
      "2019-12-02 22:03:20,406 INFO sqlalchemy.engine.base.Engine SELECT ontime.\"CRSDepTime\" AS \"ontime_CRSDepTime\" \n",
      "FROM ontime \n",
      "WHERE CAST(ontime.\"ArrDelay\" AS INTEGER) >= ? AND CAST(ontime.\"CRSDepTime\" AS INTEGER) > ? AND CAST(ontime.\"CRSDepTime\" AS INTEGER) < ?\n",
      "2019-12-02 22:03:20,407 INFO sqlalchemy.engine.base.Engine (60, 1959, 2100)\n",
      "2019-12-02 22:03:45,520 INFO sqlalchemy.engine.base.Engine SELECT ontime.\"CRSDepTime\" AS \"ontime_CRSDepTime\" \n",
      "FROM ontime \n",
      "WHERE CAST(ontime.\"ArrDelay\" AS INTEGER) >= ? AND CAST(ontime.\"CRSDepTime\" AS INTEGER) > ? AND CAST(ontime.\"CRSDepTime\" AS INTEGER) < ?\n",
      "2019-12-02 22:03:45,521 INFO sqlalchemy.engine.base.Engine (60, 2059, 2200)\n",
      "2019-12-02 22:04:13,749 INFO sqlalchemy.engine.base.Engine SELECT ontime.\"CRSDepTime\" AS \"ontime_CRSDepTime\" \n",
      "FROM ontime \n",
      "WHERE CAST(ontime.\"ArrDelay\" AS INTEGER) >= ? AND CAST(ontime.\"CRSDepTime\" AS INTEGER) > ? AND CAST(ontime.\"CRSDepTime\" AS INTEGER) < ?\n",
      "2019-12-02 22:04:13,750 INFO sqlalchemy.engine.base.Engine (60, 2159, 2300)\n",
      "2019-12-02 22:04:40,924 INFO sqlalchemy.engine.base.Engine SELECT ontime.\"CRSDepTime\" AS \"ontime_CRSDepTime\" \n",
      "FROM ontime \n",
      "WHERE CAST(ontime.\"ArrDelay\" AS INTEGER) >= ? AND CAST(ontime.\"CRSDepTime\" AS INTEGER) > ?\n",
      "2019-12-02 22:04:40,926 INFO sqlalchemy.engine.base.Engine (60, 2259)\n",
      "2019-12-02 22:05:04,533 INFO sqlalchemy.engine.base.Engine SELECT ontime.\"CRSDepTime\" AS \"ontime_CRSDepTime\" \n",
      "FROM ontime \n",
      "WHERE CAST(ontime.\"ArrDelay\" AS INTEGER) >= ? AND CAST(ontime.\"CRSDepTime\" AS INTEGER) < ?\n",
      "2019-12-02 22:05:04,534 INFO sqlalchemy.engine.base.Engine (180, 600)\n",
      "2019-12-02 22:05:30,487 INFO sqlalchemy.engine.base.Engine SELECT ontime.\"CRSDepTime\" AS \"ontime_CRSDepTime\" \n",
      "FROM ontime \n",
      "WHERE CAST(ontime.\"ArrDelay\" AS INTEGER) >= ? AND CAST(ontime.\"CRSDepTime\" AS INTEGER) > ? AND CAST(ontime.\"CRSDepTime\" AS INTEGER) < ?\n",
      "2019-12-02 22:05:30,487 INFO sqlalchemy.engine.base.Engine (180, 559, 700)\n",
      "2019-12-02 22:05:58,023 INFO sqlalchemy.engine.base.Engine SELECT ontime.\"CRSDepTime\" AS \"ontime_CRSDepTime\" \n",
      "FROM ontime \n",
      "WHERE CAST(ontime.\"ArrDelay\" AS INTEGER) >= ? AND CAST(ontime.\"CRSDepTime\" AS INTEGER) > ? AND CAST(ontime.\"CRSDepTime\" AS INTEGER) < ?\n",
      "2019-12-02 22:05:58,024 INFO sqlalchemy.engine.base.Engine (180, 659, 800)\n",
      "2019-12-02 22:06:23,795 INFO sqlalchemy.engine.base.Engine SELECT ontime.\"CRSDepTime\" AS \"ontime_CRSDepTime\" \n",
      "FROM ontime \n",
      "WHERE CAST(ontime.\"ArrDelay\" AS INTEGER) >= ? AND CAST(ontime.\"CRSDepTime\" AS INTEGER) > ? AND CAST(ontime.\"CRSDepTime\" AS INTEGER) < ?\n",
      "2019-12-02 22:06:23,796 INFO sqlalchemy.engine.base.Engine (180, 759, 900)\n",
      "2019-12-02 22:06:48,167 INFO sqlalchemy.engine.base.Engine SELECT ontime.\"CRSDepTime\" AS \"ontime_CRSDepTime\" \n",
      "FROM ontime \n",
      "WHERE CAST(ontime.\"ArrDelay\" AS INTEGER) >= ? AND CAST(ontime.\"CRSDepTime\" AS INTEGER) > ? AND CAST(ontime.\"CRSDepTime\" AS INTEGER) < ?\n",
      "2019-12-02 22:06:48,168 INFO sqlalchemy.engine.base.Engine (180, 859, 1000)\n",
      "2019-12-02 22:07:12,890 INFO sqlalchemy.engine.base.Engine SELECT ontime.\"CRSDepTime\" AS \"ontime_CRSDepTime\" \n",
      "FROM ontime \n",
      "WHERE CAST(ontime.\"ArrDelay\" AS INTEGER) >= ? AND CAST(ontime.\"CRSDepTime\" AS INTEGER) > ? AND CAST(ontime.\"CRSDepTime\" AS INTEGER) < ?\n"
     ]
    },
    {
     "name": "stdout",
     "output_type": "stream",
     "text": [
      "2019-12-02 22:07:12,891 INFO sqlalchemy.engine.base.Engine (180, 959, 1100)\n",
      "2019-12-02 22:07:36,866 INFO sqlalchemy.engine.base.Engine SELECT ontime.\"CRSDepTime\" AS \"ontime_CRSDepTime\" \n",
      "FROM ontime \n",
      "WHERE CAST(ontime.\"ArrDelay\" AS INTEGER) >= ? AND CAST(ontime.\"CRSDepTime\" AS INTEGER) > ? AND CAST(ontime.\"CRSDepTime\" AS INTEGER) < ?\n",
      "2019-12-02 22:07:36,866 INFO sqlalchemy.engine.base.Engine (180, 1059, 1200)\n",
      "2019-12-02 22:08:00,831 INFO sqlalchemy.engine.base.Engine SELECT ontime.\"CRSDepTime\" AS \"ontime_CRSDepTime\" \n",
      "FROM ontime \n",
      "WHERE CAST(ontime.\"ArrDelay\" AS INTEGER) >= ? AND CAST(ontime.\"CRSDepTime\" AS INTEGER) > ? AND CAST(ontime.\"CRSDepTime\" AS INTEGER) < ?\n",
      "2019-12-02 22:08:00,832 INFO sqlalchemy.engine.base.Engine (180, 1159, 1300)\n",
      "2019-12-02 22:08:26,495 INFO sqlalchemy.engine.base.Engine SELECT ontime.\"CRSDepTime\" AS \"ontime_CRSDepTime\" \n",
      "FROM ontime \n",
      "WHERE CAST(ontime.\"ArrDelay\" AS INTEGER) >= ? AND CAST(ontime.\"CRSDepTime\" AS INTEGER) > ? AND CAST(ontime.\"CRSDepTime\" AS INTEGER) < ?\n",
      "2019-12-02 22:08:26,495 INFO sqlalchemy.engine.base.Engine (180, 1259, 1400)\n",
      "2019-12-02 22:08:49,528 INFO sqlalchemy.engine.base.Engine SELECT ontime.\"CRSDepTime\" AS \"ontime_CRSDepTime\" \n",
      "FROM ontime \n",
      "WHERE CAST(ontime.\"ArrDelay\" AS INTEGER) >= ? AND CAST(ontime.\"CRSDepTime\" AS INTEGER) > ? AND CAST(ontime.\"CRSDepTime\" AS INTEGER) < ?\n",
      "2019-12-02 22:08:49,529 INFO sqlalchemy.engine.base.Engine (180, 1359, 1500)\n",
      "2019-12-02 22:09:14,035 INFO sqlalchemy.engine.base.Engine SELECT ontime.\"CRSDepTime\" AS \"ontime_CRSDepTime\" \n",
      "FROM ontime \n",
      "WHERE CAST(ontime.\"ArrDelay\" AS INTEGER) >= ? AND CAST(ontime.\"CRSDepTime\" AS INTEGER) > ? AND CAST(ontime.\"CRSDepTime\" AS INTEGER) < ?\n",
      "2019-12-02 22:09:14,036 INFO sqlalchemy.engine.base.Engine (180, 1459, 1600)\n",
      "2019-12-02 22:09:38,253 INFO sqlalchemy.engine.base.Engine SELECT ontime.\"CRSDepTime\" AS \"ontime_CRSDepTime\" \n",
      "FROM ontime \n",
      "WHERE CAST(ontime.\"ArrDelay\" AS INTEGER) >= ? AND CAST(ontime.\"CRSDepTime\" AS INTEGER) > ? AND CAST(ontime.\"CRSDepTime\" AS INTEGER) < ?\n",
      "2019-12-02 22:09:38,254 INFO sqlalchemy.engine.base.Engine (180, 1559, 1700)\n",
      "2019-12-02 22:10:05,031 INFO sqlalchemy.engine.base.Engine SELECT ontime.\"CRSDepTime\" AS \"ontime_CRSDepTime\" \n",
      "FROM ontime \n",
      "WHERE CAST(ontime.\"ArrDelay\" AS INTEGER) >= ? AND CAST(ontime.\"CRSDepTime\" AS INTEGER) > ? AND CAST(ontime.\"CRSDepTime\" AS INTEGER) < ?\n",
      "2019-12-02 22:10:05,032 INFO sqlalchemy.engine.base.Engine (180, 1659, 1800)\n",
      "2019-12-02 22:10:32,144 INFO sqlalchemy.engine.base.Engine SELECT ontime.\"CRSDepTime\" AS \"ontime_CRSDepTime\" \n",
      "FROM ontime \n",
      "WHERE CAST(ontime.\"ArrDelay\" AS INTEGER) >= ? AND CAST(ontime.\"CRSDepTime\" AS INTEGER) > ? AND CAST(ontime.\"CRSDepTime\" AS INTEGER) < ?\n",
      "2019-12-02 22:10:32,145 INFO sqlalchemy.engine.base.Engine (180, 1759, 1900)\n",
      "2019-12-02 22:10:56,120 INFO sqlalchemy.engine.base.Engine SELECT ontime.\"CRSDepTime\" AS \"ontime_CRSDepTime\" \n",
      "FROM ontime \n",
      "WHERE CAST(ontime.\"ArrDelay\" AS INTEGER) >= ? AND CAST(ontime.\"CRSDepTime\" AS INTEGER) > ? AND CAST(ontime.\"CRSDepTime\" AS INTEGER) < ?\n",
      "2019-12-02 22:10:56,121 INFO sqlalchemy.engine.base.Engine (180, 1859, 2000)\n",
      "2019-12-02 22:11:20,785 INFO sqlalchemy.engine.base.Engine SELECT ontime.\"CRSDepTime\" AS \"ontime_CRSDepTime\" \n",
      "FROM ontime \n",
      "WHERE CAST(ontime.\"ArrDelay\" AS INTEGER) >= ? AND CAST(ontime.\"CRSDepTime\" AS INTEGER) > ? AND CAST(ontime.\"CRSDepTime\" AS INTEGER) < ?\n",
      "2019-12-02 22:11:20,786 INFO sqlalchemy.engine.base.Engine (180, 1959, 2100)\n",
      "2019-12-02 22:11:44,411 INFO sqlalchemy.engine.base.Engine SELECT ontime.\"CRSDepTime\" AS \"ontime_CRSDepTime\" \n",
      "FROM ontime \n",
      "WHERE CAST(ontime.\"ArrDelay\" AS INTEGER) >= ? AND CAST(ontime.\"CRSDepTime\" AS INTEGER) > ? AND CAST(ontime.\"CRSDepTime\" AS INTEGER) < ?\n",
      "2019-12-02 22:11:44,411 INFO sqlalchemy.engine.base.Engine (180, 2059, 2200)\n",
      "2019-12-02 22:12:08,609 INFO sqlalchemy.engine.base.Engine SELECT ontime.\"CRSDepTime\" AS \"ontime_CRSDepTime\" \n",
      "FROM ontime \n",
      "WHERE CAST(ontime.\"ArrDelay\" AS INTEGER) >= ? AND CAST(ontime.\"CRSDepTime\" AS INTEGER) > ? AND CAST(ontime.\"CRSDepTime\" AS INTEGER) < ?\n",
      "2019-12-02 22:12:08,610 INFO sqlalchemy.engine.base.Engine (180, 2159, 2300)\n",
      "2019-12-02 22:12:32,748 INFO sqlalchemy.engine.base.Engine SELECT ontime.\"CRSDepTime\" AS \"ontime_CRSDepTime\" \n",
      "FROM ontime \n",
      "WHERE CAST(ontime.\"ArrDelay\" AS INTEGER) >= ? AND CAST(ontime.\"CRSDepTime\" AS INTEGER) > ?\n",
      "2019-12-02 22:12:32,750 INFO sqlalchemy.engine.base.Engine (180, 2259)\n",
      "2019-12-02 22:12:54,264 INFO sqlalchemy.engine.base.Engine SELECT ontime.\"CRSDepTime\" AS \"ontime_CRSDepTime\" \n",
      "FROM ontime \n",
      "WHERE CAST(ontime.\"ArrDelay\" AS INTEGER) >= ? AND CAST(ontime.\"CRSDepTime\" AS INTEGER) < ?\n",
      "2019-12-02 22:12:54,265 INFO sqlalchemy.engine.base.Engine (300, 600)\n",
      "2019-12-02 22:13:16,211 INFO sqlalchemy.engine.base.Engine SELECT ontime.\"CRSDepTime\" AS \"ontime_CRSDepTime\" \n",
      "FROM ontime \n",
      "WHERE CAST(ontime.\"ArrDelay\" AS INTEGER) >= ? AND CAST(ontime.\"CRSDepTime\" AS INTEGER) > ? AND CAST(ontime.\"CRSDepTime\" AS INTEGER) < ?\n",
      "2019-12-02 22:13:16,212 INFO sqlalchemy.engine.base.Engine (300, 559, 700)\n",
      "2019-12-02 22:13:38,778 INFO sqlalchemy.engine.base.Engine SELECT ontime.\"CRSDepTime\" AS \"ontime_CRSDepTime\" \n",
      "FROM ontime \n",
      "WHERE CAST(ontime.\"ArrDelay\" AS INTEGER) >= ? AND CAST(ontime.\"CRSDepTime\" AS INTEGER) > ? AND CAST(ontime.\"CRSDepTime\" AS INTEGER) < ?\n",
      "2019-12-02 22:13:38,779 INFO sqlalchemy.engine.base.Engine (300, 659, 800)\n",
      "2019-12-02 22:14:02,192 INFO sqlalchemy.engine.base.Engine SELECT ontime.\"CRSDepTime\" AS \"ontime_CRSDepTime\" \n",
      "FROM ontime \n",
      "WHERE CAST(ontime.\"ArrDelay\" AS INTEGER) >= ? AND CAST(ontime.\"CRSDepTime\" AS INTEGER) > ? AND CAST(ontime.\"CRSDepTime\" AS INTEGER) < ?\n",
      "2019-12-02 22:14:02,193 INFO sqlalchemy.engine.base.Engine (300, 759, 900)\n",
      "2019-12-02 22:14:27,203 INFO sqlalchemy.engine.base.Engine SELECT ontime.\"CRSDepTime\" AS \"ontime_CRSDepTime\" \n",
      "FROM ontime \n",
      "WHERE CAST(ontime.\"ArrDelay\" AS INTEGER) >= ? AND CAST(ontime.\"CRSDepTime\" AS INTEGER) > ? AND CAST(ontime.\"CRSDepTime\" AS INTEGER) < ?\n",
      "2019-12-02 22:14:27,203 INFO sqlalchemy.engine.base.Engine (300, 859, 1000)\n",
      "2019-12-02 22:14:49,494 INFO sqlalchemy.engine.base.Engine SELECT ontime.\"CRSDepTime\" AS \"ontime_CRSDepTime\" \n",
      "FROM ontime \n",
      "WHERE CAST(ontime.\"ArrDelay\" AS INTEGER) >= ? AND CAST(ontime.\"CRSDepTime\" AS INTEGER) > ? AND CAST(ontime.\"CRSDepTime\" AS INTEGER) < ?\n",
      "2019-12-02 22:14:49,494 INFO sqlalchemy.engine.base.Engine (300, 959, 1100)\n",
      "2019-12-02 22:15:10,856 INFO sqlalchemy.engine.base.Engine SELECT ontime.\"CRSDepTime\" AS \"ontime_CRSDepTime\" \n",
      "FROM ontime \n",
      "WHERE CAST(ontime.\"ArrDelay\" AS INTEGER) >= ? AND CAST(ontime.\"CRSDepTime\" AS INTEGER) > ? AND CAST(ontime.\"CRSDepTime\" AS INTEGER) < ?\n",
      "2019-12-02 22:15:10,857 INFO sqlalchemy.engine.base.Engine (300, 1059, 1200)\n",
      "2019-12-02 22:15:34,732 INFO sqlalchemy.engine.base.Engine SELECT ontime.\"CRSDepTime\" AS \"ontime_CRSDepTime\" \n",
      "FROM ontime \n",
      "WHERE CAST(ontime.\"ArrDelay\" AS INTEGER) >= ? AND CAST(ontime.\"CRSDepTime\" AS INTEGER) > ? AND CAST(ontime.\"CRSDepTime\" AS INTEGER) < ?\n",
      "2019-12-02 22:15:34,732 INFO sqlalchemy.engine.base.Engine (300, 1159, 1300)\n",
      "2019-12-02 22:15:58,945 INFO sqlalchemy.engine.base.Engine SELECT ontime.\"CRSDepTime\" AS \"ontime_CRSDepTime\" \n",
      "FROM ontime \n",
      "WHERE CAST(ontime.\"ArrDelay\" AS INTEGER) >= ? AND CAST(ontime.\"CRSDepTime\" AS INTEGER) > ? AND CAST(ontime.\"CRSDepTime\" AS INTEGER) < ?\n",
      "2019-12-02 22:15:58,946 INFO sqlalchemy.engine.base.Engine (300, 1259, 1400)\n",
      "2019-12-02 22:16:23,002 INFO sqlalchemy.engine.base.Engine SELECT ontime.\"CRSDepTime\" AS \"ontime_CRSDepTime\" \n",
      "FROM ontime \n",
      "WHERE CAST(ontime.\"ArrDelay\" AS INTEGER) >= ? AND CAST(ontime.\"CRSDepTime\" AS INTEGER) > ? AND CAST(ontime.\"CRSDepTime\" AS INTEGER) < ?\n",
      "2019-12-02 22:16:23,002 INFO sqlalchemy.engine.base.Engine (300, 1359, 1500)\n",
      "2019-12-02 22:16:47,308 INFO sqlalchemy.engine.base.Engine SELECT ontime.\"CRSDepTime\" AS \"ontime_CRSDepTime\" \n",
      "FROM ontime \n",
      "WHERE CAST(ontime.\"ArrDelay\" AS INTEGER) >= ? AND CAST(ontime.\"CRSDepTime\" AS INTEGER) > ? AND CAST(ontime.\"CRSDepTime\" AS INTEGER) < ?\n",
      "2019-12-02 22:16:47,308 INFO sqlalchemy.engine.base.Engine (300, 1459, 1600)\n",
      "2019-12-02 22:17:10,194 INFO sqlalchemy.engine.base.Engine SELECT ontime.\"CRSDepTime\" AS \"ontime_CRSDepTime\" \n",
      "FROM ontime \n",
      "WHERE CAST(ontime.\"ArrDelay\" AS INTEGER) >= ? AND CAST(ontime.\"CRSDepTime\" AS INTEGER) > ? AND CAST(ontime.\"CRSDepTime\" AS INTEGER) < ?\n"
     ]
    },
    {
     "name": "stdout",
     "output_type": "stream",
     "text": [
      "2019-12-02 22:17:10,195 INFO sqlalchemy.engine.base.Engine (300, 1559, 1700)\n",
      "2019-12-02 22:17:33,585 INFO sqlalchemy.engine.base.Engine SELECT ontime.\"CRSDepTime\" AS \"ontime_CRSDepTime\" \n",
      "FROM ontime \n",
      "WHERE CAST(ontime.\"ArrDelay\" AS INTEGER) >= ? AND CAST(ontime.\"CRSDepTime\" AS INTEGER) > ? AND CAST(ontime.\"CRSDepTime\" AS INTEGER) < ?\n",
      "2019-12-02 22:17:33,586 INFO sqlalchemy.engine.base.Engine (300, 1659, 1800)\n",
      "2019-12-02 22:17:55,892 INFO sqlalchemy.engine.base.Engine SELECT ontime.\"CRSDepTime\" AS \"ontime_CRSDepTime\" \n",
      "FROM ontime \n",
      "WHERE CAST(ontime.\"ArrDelay\" AS INTEGER) >= ? AND CAST(ontime.\"CRSDepTime\" AS INTEGER) > ? AND CAST(ontime.\"CRSDepTime\" AS INTEGER) < ?\n",
      "2019-12-02 22:17:55,892 INFO sqlalchemy.engine.base.Engine (300, 1759, 1900)\n",
      "2019-12-02 22:18:17,790 INFO sqlalchemy.engine.base.Engine SELECT ontime.\"CRSDepTime\" AS \"ontime_CRSDepTime\" \n",
      "FROM ontime \n",
      "WHERE CAST(ontime.\"ArrDelay\" AS INTEGER) >= ? AND CAST(ontime.\"CRSDepTime\" AS INTEGER) > ? AND CAST(ontime.\"CRSDepTime\" AS INTEGER) < ?\n",
      "2019-12-02 22:18:17,790 INFO sqlalchemy.engine.base.Engine (300, 1859, 2000)\n",
      "2019-12-02 22:18:40,378 INFO sqlalchemy.engine.base.Engine SELECT ontime.\"CRSDepTime\" AS \"ontime_CRSDepTime\" \n",
      "FROM ontime \n",
      "WHERE CAST(ontime.\"ArrDelay\" AS INTEGER) >= ? AND CAST(ontime.\"CRSDepTime\" AS INTEGER) > ? AND CAST(ontime.\"CRSDepTime\" AS INTEGER) < ?\n",
      "2019-12-02 22:18:40,378 INFO sqlalchemy.engine.base.Engine (300, 1959, 2100)\n",
      "2019-12-02 22:19:03,754 INFO sqlalchemy.engine.base.Engine SELECT ontime.\"CRSDepTime\" AS \"ontime_CRSDepTime\" \n",
      "FROM ontime \n",
      "WHERE CAST(ontime.\"ArrDelay\" AS INTEGER) >= ? AND CAST(ontime.\"CRSDepTime\" AS INTEGER) > ? AND CAST(ontime.\"CRSDepTime\" AS INTEGER) < ?\n",
      "2019-12-02 22:19:03,755 INFO sqlalchemy.engine.base.Engine (300, 2059, 2200)\n",
      "2019-12-02 22:19:25,843 INFO sqlalchemy.engine.base.Engine SELECT ontime.\"CRSDepTime\" AS \"ontime_CRSDepTime\" \n",
      "FROM ontime \n",
      "WHERE CAST(ontime.\"ArrDelay\" AS INTEGER) >= ? AND CAST(ontime.\"CRSDepTime\" AS INTEGER) > ? AND CAST(ontime.\"CRSDepTime\" AS INTEGER) < ?\n",
      "2019-12-02 22:19:25,844 INFO sqlalchemy.engine.base.Engine (300, 2159, 2300)\n",
      "2019-12-02 22:19:48,463 INFO sqlalchemy.engine.base.Engine SELECT ontime.\"CRSDepTime\" AS \"ontime_CRSDepTime\" \n",
      "FROM ontime \n",
      "WHERE CAST(ontime.\"ArrDelay\" AS INTEGER) >= ? AND CAST(ontime.\"CRSDepTime\" AS INTEGER) > ?\n",
      "2019-12-02 22:19:48,464 INFO sqlalchemy.engine.base.Engine (300, 2259)\n"
     ]
    }
   ],
   "source": [
    "onehour = intervals(60)\n",
    "threehours = intervals(180)\n",
    "fivehours = intervals(300)"
   ]
  },
  {
   "cell_type": "code",
   "execution_count": 8,
   "metadata": {},
   "outputs": [
    {
     "data": {
      "image/png": "[encoded data removed]",
      "text/plain": [
       "<Figure size 432x288 with 1 Axes>"
      ]
     },
     "metadata": {
      "needs_background": "light"
     },
     "output_type": "display_data"
    }
   ],
   "source": [
    "plt.bar(onehour.keys(), onehour.values(), width=0.8, color='g')\n",
    "plt.xticks(range(len(onehour)), onehour.keys(), rotation=90)\n",
    "plt.title(\"Time of day vs. one hour delays from 2000-2008\")\n",
    "plt.xlabel(\"Time intervals\")\n",
    "plt.ylabel(\"Total of flights delayed\")\n",
    "plt.show()"
   ]
  },
  {
   "cell_type": "code",
   "execution_count": 10,
   "metadata": {},
   "outputs": [
    {
     "data": {
      "image/png": "[encoded data removed]",
      "text/plain": [
       "<Figure size 432x288 with 1 Axes>"
      ]
     },
     "metadata": {
      "needs_background": "light"
     },
     "output_type": "display_data"
    }
   ],
   "source": [
    "plt.bar(threehours.keys(), threehours.values(), width=0.8, color='y')\n",
    "plt.xticks(range(len(threehours)), threehours.keys(), rotation=90)\n",
    "plt.title(\"Time of day vs. three hour delays from 2000-2008\")\n",
    "plt.xlabel(\"Time intervals\")\n",
    "plt.ylabel(\"Total of flights delayed\")\n",
    "plt.show()"
   ]
  },
  {
   "cell_type": "code",
   "execution_count": 11,
   "metadata": {
    "scrolled": true
   },
   "outputs": [
    {
     "data": {
      "image/png": "[encoded data removed]",
      "text/plain": [
       "<Figure size 432x288 with 1 Axes>"
      ]
     },
     "metadata": {
      "needs_background": "light"
     },
     "output_type": "display_data"
    }
   ],
   "source": [
    "plt.bar(fivehours.keys(), fivehours.values(), width=0.8, color='r')\n",
    "plt.xticks(range(len(fivehours)), fivehours.keys(), rotation=90)\n",
    "plt.title(\"Time of day vs. five hour delays from 2000-2008\")\n",
    "plt.xlabel(\"Time intervals\")\n",
    "plt.ylabel(\"Total of flights delayed\")\n",
    "plt.show()"
   ]
  },
  {
   "cell_type": "code",
   "execution_count": 13,
   "metadata": {},
   "outputs": [
    {
     "data": {
      "text/plain": [
       "3305638"
      ]
     },
     "execution_count": 13,
     "metadata": {},
     "output_type": "execute_result"
    }
   ],
   "source": [
    "sum(onehour.values())"
   ]
  },
  {
   "cell_type": "code",
   "execution_count": 14,
   "metadata": {},
   "outputs": [
    {
     "data": {
      "text/plain": [
       "dict_values([12873, 73622, 99076, 118969, 126266, 132097, 153628, 169337, 209604, 225156, 257936, 276554, 363591, 324189, 310838, 232540, 147607, 54167, 17588])"
      ]
     },
     "execution_count": 14,
     "metadata": {},
     "output_type": "execute_result"
    }
   ],
   "source": [
    "onehour.values()"
   ]
  },
  {
   "cell_type": "code",
   "execution_count": 15,
   "metadata": {},
   "outputs": [
    {
     "data": {
      "text/plain": [
       "{'12:00AM-5:59AM': 12873,\n",
       " '6:00AM-6:59AM': 73622,\n",
       " '7:00AM-7:59AM': 99076,\n",
       " '8:00AM-8:59AM': 118969,\n",
       " '9:00AM-9:59AM': 126266,\n",
       " '10:00AM-10:59AM': 132097,\n",
       " '11:00AM-11:59AM': 153628,\n",
       " '12:00PM-12:59PM': 169337,\n",
       " '1:00PM-1:59PM': 209604,\n",
       " '2:00PM-2:59PM': 225156,\n",
       " '3:00PM-3:59PM': 257936,\n",
       " '4:00PM-4:59PM': 276554,\n",
       " '5:00PM-5:59PM': 363591,\n",
       " '6:00PM-6:59PM': 324189,\n",
       " '7:00PM-7:59PM': 310838,\n",
       " '8:00PM-8:59PM': 232540,\n",
       " '9:00PM-9:59PM': 147607,\n",
       " '10:00PM-10:59PM': 54167,\n",
       " '11:00PM-11:59PM': 17588}"
      ]
     },
     "execution_count": 15,
     "metadata": {},
     "output_type": "execute_result"
    }
   ],
   "source": [
    "onehour"
   ]
  },
  {
   "cell_type": "code",
   "execution_count": 16,
   "metadata": {},
   "outputs": [],
   "source": [
    "afternoon_1 = onehour['3:00PM-3:59PM']+ onehour['4:00PM-4:59PM']+ onehour['5:00PM-5:59PM']+ onehour['6:00PM-6:59PM']+ onehour['7:00PM-7:59PM']\n",
    "perc1 = (afternoon_1/sum(onehour.values())) * 100\n",
    "afternoon_2 = threehours['3:00PM-3:59PM']+ threehours['4:00PM-4:59PM']+ threehours['5:00PM-5:59PM']+ threehours['6:00PM-6:59PM']+ threehours['7:00PM-7:59PM']\n",
    "perc2 = (afternoon_2/sum(threehours.values())) * 100\n",
    "afternoon_3 = fivehours['3:00PM-3:59PM']+ fivehours['4:00PM-4:59PM']+ fivehours['5:00PM-5:59PM']+ fivehours['6:00PM-6:59PM']+ fivehours['7:00PM-7:59PM']\n",
    "perc3 = (afternoon_3/sum(fivehours.values())) * 100\n"
   ]
  },
  {
   "cell_type": "code",
   "execution_count": 17,
   "metadata": {},
   "outputs": [
    {
     "data": {
      "text/plain": [
       "46.378581078750905"
      ]
     },
     "execution_count": 17,
     "metadata": {},
     "output_type": "execute_result"
    }
   ],
   "source": [
    "perc1"
   ]
  },
  {
   "cell_type": "code",
   "execution_count": 18,
   "metadata": {},
   "outputs": [
    {
     "data": {
      "text/plain": [
       "46.81685720690428"
      ]
     },
     "execution_count": 18,
     "metadata": {},
     "output_type": "execute_result"
    }
   ],
   "source": [
    "perc2"
   ]
  },
  {
   "cell_type": "code",
   "execution_count": 19,
   "metadata": {},
   "outputs": [
    {
     "data": {
      "text/plain": [
       "36.857629578220134"
      ]
     },
     "execution_count": 19,
     "metadata": {},
     "output_type": "execute_result"
    }
   ],
   "source": [
    "perc3"
   ]
  },
  {
   "cell_type": "code",
   "execution_count": 23,
   "metadata": {},
   "outputs": [
    {
     "data": {
      "text/plain": [
       "13.877409381999431"
      ]
     },
     "execution_count": 23,
     "metadata": {},
     "output_type": "execute_result"
    }
   ],
   "source": [
    "morning = fivehours['6:00AM-6:59AM']+fivehours['7:00AM-7:59AM']\n",
    "perc4 = (morning/sum(fivehours.values())) * 100\n",
    "perc4"
   ]
  },
  {
   "cell_type": "code",
   "execution_count": null,
   "metadata": {},
   "outputs": [],
   "source": []
  }
 ],
 "metadata": {
  "kernelspec": {
   "display_name": "Python 3",
   "language": "python",
   "name": "python3"
  },
  "language_info": {
   "codemirror_mode": {
    "name": "ipython",
    "version": 3
   },
   "file_extension": ".py",
   "mimetype": "text/x-python",
   "name": "python",
   "nbconvert_exporter": "python",
   "pygments_lexer": "ipython3",
   "version": "3.7.3"
  }
 },
 "nbformat": 4,
 "nbformat_minor": 2
}
