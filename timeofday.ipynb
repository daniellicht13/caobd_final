{
 "cells": [
  {
   "cell_type": "code",
   "execution_count": 1,
   "metadata": {},
   "outputs": [],
   "source": [
    "import pandas as pd\n",
    "import sqlite3\n",
    "import sqlalchemy as db\n",
    "from sqlalchemy.orm import Session\n",
    "import matplotlib as plt\n",
    "from collections import Counter\n",
    "import operator\n",
    "\n",
    "%matplotlib inline"
   ]
  },
  {
   "cell_type": "code",
   "execution_count": 2,
   "metadata": {},
   "outputs": [
    {
     "name": "stdout",
     "output_type": "stream",
     "text": [
      "2019-11-25 21:19:25,106 INFO sqlalchemy.engine.base.Engine SELECT CAST('test plain returns' AS VARCHAR(60)) AS anon_1\n",
      "2019-11-25 21:19:25,108 INFO sqlalchemy.engine.base.Engine ()\n",
      "2019-11-25 21:19:25,109 INFO sqlalchemy.engine.base.Engine SELECT CAST('test unicode returns' AS VARCHAR(60)) AS anon_1\n",
      "2019-11-25 21:19:25,110 INFO sqlalchemy.engine.base.Engine ()\n",
      "2019-11-25 21:19:25,114 INFO sqlalchemy.engine.base.Engine PRAGMA table_info(\"ontime\")\n",
      "2019-11-25 21:19:25,116 INFO sqlalchemy.engine.base.Engine ()\n",
      "2019-11-25 21:19:25,137 INFO sqlalchemy.engine.base.Engine SELECT sql FROM  (SELECT * FROM sqlite_master UNION ALL   SELECT * FROM sqlite_temp_master) WHERE name = 'ontime' AND type = 'table'\n",
      "2019-11-25 21:19:25,140 INFO sqlalchemy.engine.base.Engine ()\n",
      "2019-11-25 21:19:25,144 INFO sqlalchemy.engine.base.Engine PRAGMA foreign_key_list(\"ontime\")\n",
      "2019-11-25 21:19:25,146 INFO sqlalchemy.engine.base.Engine ()\n",
      "2019-11-25 21:19:25,154 INFO sqlalchemy.engine.base.Engine SELECT sql FROM  (SELECT * FROM sqlite_master UNION ALL   SELECT * FROM sqlite_temp_master) WHERE name = 'ontime' AND type = 'table'\n",
      "2019-11-25 21:19:25,164 INFO sqlalchemy.engine.base.Engine ()\n",
      "2019-11-25 21:19:25,168 INFO sqlalchemy.engine.base.Engine PRAGMA index_list(\"ontime\")\n",
      "2019-11-25 21:19:25,172 INFO sqlalchemy.engine.base.Engine ()\n",
      "2019-11-25 21:19:25,183 INFO sqlalchemy.engine.base.Engine PRAGMA index_info(\"dest\")\n",
      "2019-11-25 21:19:25,184 INFO sqlalchemy.engine.base.Engine ()\n",
      "2019-11-25 21:19:25,185 INFO sqlalchemy.engine.base.Engine PRAGMA index_info(\"origin\")\n",
      "2019-11-25 21:19:25,186 INFO sqlalchemy.engine.base.Engine ()\n",
      "2019-11-25 21:19:25,186 INFO sqlalchemy.engine.base.Engine PRAGMA index_info(\"date\")\n",
      "2019-11-25 21:19:25,187 INFO sqlalchemy.engine.base.Engine ()\n",
      "2019-11-25 21:19:25,188 INFO sqlalchemy.engine.base.Engine PRAGMA index_info(\"year\")\n",
      "2019-11-25 21:19:25,189 INFO sqlalchemy.engine.base.Engine ()\n",
      "2019-11-25 21:19:25,191 INFO sqlalchemy.engine.base.Engine PRAGMA index_list(\"ontime\")\n",
      "2019-11-25 21:19:25,194 INFO sqlalchemy.engine.base.Engine ()\n",
      "2019-11-25 21:19:25,196 INFO sqlalchemy.engine.base.Engine PRAGMA index_info(\"dest\")\n",
      "2019-11-25 21:19:25,196 INFO sqlalchemy.engine.base.Engine ()\n",
      "2019-11-25 21:19:25,197 INFO sqlalchemy.engine.base.Engine PRAGMA index_info(\"origin\")\n",
      "2019-11-25 21:19:25,198 INFO sqlalchemy.engine.base.Engine ()\n",
      "2019-11-25 21:19:25,200 INFO sqlalchemy.engine.base.Engine PRAGMA index_info(\"date\")\n",
      "2019-11-25 21:19:25,201 INFO sqlalchemy.engine.base.Engine ()\n",
      "2019-11-25 21:19:25,204 INFO sqlalchemy.engine.base.Engine PRAGMA index_info(\"year\")\n",
      "2019-11-25 21:19:25,209 INFO sqlalchemy.engine.base.Engine ()\n",
      "2019-11-25 21:19:25,223 INFO sqlalchemy.engine.base.Engine SELECT sql FROM  (SELECT * FROM sqlite_master UNION ALL   SELECT * FROM sqlite_temp_master) WHERE name = 'ontime' AND type = 'table'\n",
      "2019-11-25 21:19:25,224 INFO sqlalchemy.engine.base.Engine ()\n"
     ]
    }
   ],
   "source": [
    "engine = db.create_engine('sqlite:///flights.sqlite3', echo=True)     #relative directory (in same folder as this notebook so no directory)\n",
    "connection = engine.connect()\n",
    "flights = db.Table('ontime', db.MetaData(), autoload=True, autoload_with=engine)\n",
    "session = Session(bind=engine)\n",
    "cols = flights.columns"
   ]
  },
  {
   "cell_type": "code",
   "execution_count": 7,
   "metadata": {},
   "outputs": [
    {
     "name": "stdout",
     "output_type": "stream",
     "text": [
      "2019-11-25 21:47:14,840 INFO sqlalchemy.engine.base.Engine SELECT ontime.\"CRSDepTime\" AS \"ontime_CRSDepTime\" \n",
      "FROM ontime \n",
      "WHERE CAST(ontime.\"ArrDelay\" AS INTEGER) >= ? AND CAST(ontime.\"CRSDepTime\" AS INTEGER) < ?\n",
      "2019-11-25 21:47:14,842 INFO sqlalchemy.engine.base.Engine (60, 600)\n",
      "2019-11-25 21:47:40,069 INFO sqlalchemy.engine.base.Engine SELECT ontime.\"CRSDepTime\" AS \"ontime_CRSDepTime\" \n",
      "FROM ontime \n",
      "WHERE CAST(ontime.\"ArrDelay\" AS INTEGER) >= ? AND CAST(ontime.\"CRSDepTime\" AS INTEGER) > ? AND CAST(ontime.\"CRSDepTime\" AS INTEGER) < ?\n",
      "2019-11-25 21:47:40,070 INFO sqlalchemy.engine.base.Engine (60, 559, 700)\n",
      "2019-11-25 21:48:05,607 INFO sqlalchemy.engine.base.Engine SELECT ontime.\"CRSDepTime\" AS \"ontime_CRSDepTime\" \n",
      "FROM ontime \n",
      "WHERE CAST(ontime.\"ArrDelay\" AS INTEGER) >= ? AND CAST(ontime.\"CRSDepTime\" AS INTEGER) > ? AND CAST(ontime.\"CRSDepTime\" AS INTEGER) < ?\n",
      "2019-11-25 21:48:05,608 INFO sqlalchemy.engine.base.Engine (60, 659, 800)\n",
      "2019-11-25 21:48:30,795 INFO sqlalchemy.engine.base.Engine SELECT ontime.\"CRSDepTime\" AS \"ontime_CRSDepTime\" \n",
      "FROM ontime \n",
      "WHERE CAST(ontime.\"ArrDelay\" AS INTEGER) >= ? AND CAST(ontime.\"CRSDepTime\" AS INTEGER) > ? AND CAST(ontime.\"CRSDepTime\" AS INTEGER) < ?\n",
      "2019-11-25 21:48:30,796 INFO sqlalchemy.engine.base.Engine (60, 759, 900)\n",
      "2019-11-25 21:48:54,804 INFO sqlalchemy.engine.base.Engine SELECT ontime.\"CRSDepTime\" AS \"ontime_CRSDepTime\" \n",
      "FROM ontime \n",
      "WHERE CAST(ontime.\"ArrDelay\" AS INTEGER) >= ? AND CAST(ontime.\"CRSDepTime\" AS INTEGER) > ? AND CAST(ontime.\"CRSDepTime\" AS INTEGER) < ?\n",
      "2019-11-25 21:48:54,805 INFO sqlalchemy.engine.base.Engine (60, 859, 1000)\n",
      "2019-11-25 21:49:18,550 INFO sqlalchemy.engine.base.Engine SELECT ontime.\"CRSDepTime\" AS \"ontime_CRSDepTime\" \n",
      "FROM ontime \n",
      "WHERE CAST(ontime.\"ArrDelay\" AS INTEGER) >= ? AND CAST(ontime.\"CRSDepTime\" AS INTEGER) > ? AND CAST(ontime.\"CRSDepTime\" AS INTEGER) < ?\n",
      "2019-11-25 21:49:18,551 INFO sqlalchemy.engine.base.Engine (60, 959, 1100)\n",
      "2019-11-25 21:49:42,177 INFO sqlalchemy.engine.base.Engine SELECT ontime.\"CRSDepTime\" AS \"ontime_CRSDepTime\" \n",
      "FROM ontime \n",
      "WHERE CAST(ontime.\"ArrDelay\" AS INTEGER) >= ? AND CAST(ontime.\"CRSDepTime\" AS INTEGER) > ? AND CAST(ontime.\"CRSDepTime\" AS INTEGER) < ?\n",
      "2019-11-25 21:49:42,178 INFO sqlalchemy.engine.base.Engine (60, 1059, 1200)\n",
      "2019-11-25 21:50:06,317 INFO sqlalchemy.engine.base.Engine SELECT ontime.\"CRSDepTime\" AS \"ontime_CRSDepTime\" \n",
      "FROM ontime \n",
      "WHERE CAST(ontime.\"ArrDelay\" AS INTEGER) >= ? AND CAST(ontime.\"CRSDepTime\" AS INTEGER) > ? AND CAST(ontime.\"CRSDepTime\" AS INTEGER) < ?\n",
      "2019-11-25 21:50:06,317 INFO sqlalchemy.engine.base.Engine (60, 1159, 1300)\n",
      "2019-11-25 21:50:30,642 INFO sqlalchemy.engine.base.Engine SELECT ontime.\"CRSDepTime\" AS \"ontime_CRSDepTime\" \n",
      "FROM ontime \n",
      "WHERE CAST(ontime.\"ArrDelay\" AS INTEGER) >= ? AND CAST(ontime.\"CRSDepTime\" AS INTEGER) > ? AND CAST(ontime.\"CRSDepTime\" AS INTEGER) < ?\n",
      "2019-11-25 21:50:30,642 INFO sqlalchemy.engine.base.Engine (60, 1259, 1400)\n",
      "2019-11-25 21:50:54,947 INFO sqlalchemy.engine.base.Engine SELECT ontime.\"CRSDepTime\" AS \"ontime_CRSDepTime\" \n",
      "FROM ontime \n",
      "WHERE CAST(ontime.\"ArrDelay\" AS INTEGER) >= ? AND CAST(ontime.\"CRSDepTime\" AS INTEGER) > ? AND CAST(ontime.\"CRSDepTime\" AS INTEGER) < ?\n",
      "2019-11-25 21:50:54,948 INFO sqlalchemy.engine.base.Engine (60, 1359, 1500)\n",
      "2019-11-25 21:51:18,855 INFO sqlalchemy.engine.base.Engine SELECT ontime.\"CRSDepTime\" AS \"ontime_CRSDepTime\" \n",
      "FROM ontime \n",
      "WHERE CAST(ontime.\"ArrDelay\" AS INTEGER) >= ? AND CAST(ontime.\"CRSDepTime\" AS INTEGER) > ? AND CAST(ontime.\"CRSDepTime\" AS INTEGER) < ?\n",
      "2019-11-25 21:51:18,856 INFO sqlalchemy.engine.base.Engine (60, 1459, 1600)\n",
      "2019-11-25 21:51:42,608 INFO sqlalchemy.engine.base.Engine SELECT ontime.\"CRSDepTime\" AS \"ontime_CRSDepTime\" \n",
      "FROM ontime \n",
      "WHERE CAST(ontime.\"ArrDelay\" AS INTEGER) >= ? AND CAST(ontime.\"CRSDepTime\" AS INTEGER) > ? AND CAST(ontime.\"CRSDepTime\" AS INTEGER) < ?\n",
      "2019-11-25 21:51:42,608 INFO sqlalchemy.engine.base.Engine (60, 1559, 1700)\n",
      "2019-11-25 21:52:06,746 INFO sqlalchemy.engine.base.Engine SELECT ontime.\"CRSDepTime\" AS \"ontime_CRSDepTime\" \n",
      "FROM ontime \n",
      "WHERE CAST(ontime.\"ArrDelay\" AS INTEGER) >= ? AND CAST(ontime.\"CRSDepTime\" AS INTEGER) > ? AND CAST(ontime.\"CRSDepTime\" AS INTEGER) < ?\n",
      "2019-11-25 21:52:06,747 INFO sqlalchemy.engine.base.Engine (60, 1659, 1800)\n",
      "2019-11-25 21:52:32,303 INFO sqlalchemy.engine.base.Engine SELECT ontime.\"CRSDepTime\" AS \"ontime_CRSDepTime\" \n",
      "FROM ontime \n",
      "WHERE CAST(ontime.\"ArrDelay\" AS INTEGER) >= ? AND CAST(ontime.\"CRSDepTime\" AS INTEGER) > ? AND CAST(ontime.\"CRSDepTime\" AS INTEGER) < ?\n",
      "2019-11-25 21:52:32,304 INFO sqlalchemy.engine.base.Engine (60, 1759, 1900)\n",
      "2019-11-25 21:52:58,973 INFO sqlalchemy.engine.base.Engine SELECT ontime.\"CRSDepTime\" AS \"ontime_CRSDepTime\" \n",
      "FROM ontime \n",
      "WHERE CAST(ontime.\"ArrDelay\" AS INTEGER) >= ? AND CAST(ontime.\"CRSDepTime\" AS INTEGER) > ? AND CAST(ontime.\"CRSDepTime\" AS INTEGER) < ?\n",
      "2019-11-25 21:52:58,975 INFO sqlalchemy.engine.base.Engine (60, 1859, 2000)\n",
      "2019-11-25 21:53:24,657 INFO sqlalchemy.engine.base.Engine SELECT ontime.\"CRSDepTime\" AS \"ontime_CRSDepTime\" \n",
      "FROM ontime \n",
      "WHERE CAST(ontime.\"ArrDelay\" AS INTEGER) >= ? AND CAST(ontime.\"CRSDepTime\" AS INTEGER) > ? AND CAST(ontime.\"CRSDepTime\" AS INTEGER) < ?\n",
      "2019-11-25 21:53:24,658 INFO sqlalchemy.engine.base.Engine (60, 1959, 2100)\n",
      "2019-11-25 21:53:48,349 INFO sqlalchemy.engine.base.Engine SELECT ontime.\"CRSDepTime\" AS \"ontime_CRSDepTime\" \n",
      "FROM ontime \n",
      "WHERE CAST(ontime.\"ArrDelay\" AS INTEGER) >= ? AND CAST(ontime.\"CRSDepTime\" AS INTEGER) > ? AND CAST(ontime.\"CRSDepTime\" AS INTEGER) < ?\n",
      "2019-11-25 21:53:48,350 INFO sqlalchemy.engine.base.Engine (60, 2059, 2200)\n",
      "2019-11-25 21:54:13,376 INFO sqlalchemy.engine.base.Engine SELECT ontime.\"CRSDepTime\" AS \"ontime_CRSDepTime\" \n",
      "FROM ontime \n",
      "WHERE CAST(ontime.\"ArrDelay\" AS INTEGER) >= ? AND CAST(ontime.\"CRSDepTime\" AS INTEGER) > ? AND CAST(ontime.\"CRSDepTime\" AS INTEGER) < ?\n",
      "2019-11-25 21:54:13,376 INFO sqlalchemy.engine.base.Engine (60, 2159, 2300)\n",
      "2019-11-25 21:54:37,642 INFO sqlalchemy.engine.base.Engine SELECT ontime.\"CRSDepTime\" AS \"ontime_CRSDepTime\" \n",
      "FROM ontime \n",
      "WHERE CAST(ontime.\"ArrDelay\" AS INTEGER) >= ? AND CAST(ontime.\"CRSDepTime\" AS INTEGER) > ?\n",
      "2019-11-25 21:54:37,643 INFO sqlalchemy.engine.base.Engine (60, 2259)\n"
     ]
    }
   ],
   "source": [
    "intervals = {\n",
    "    \"12:00AM-5:59AM\": session.query(cols.CRSDepTime).filter(cols.ArrDelay.cast(db.Integer) >= 60, cols.CRSDepTime.cast(db.Integer) < 600).all(),\n",
    "    \"6:00AM-6:59AM\": session.query(cols.CRSDepTime).filter(cols.ArrDelay.cast(db.Integer) >= 60, cols.CRSDepTime.cast(db.Integer) > 559, cols.CRSDepTime.cast(db.Integer) < 700).all(),\n",
    "    \"7:00AM-7:59AM\": session.query(cols.CRSDepTime).filter(cols.ArrDelay.cast(db.Integer) >= 60, cols.CRSDepTime.cast(db.Integer) > 659, cols.CRSDepTime.cast(db.Integer) < 800).all(),\n",
    "    \"8:00AM-8:59AM\": session.query(cols.CRSDepTime).filter(cols.ArrDelay.cast(db.Integer) >= 60, cols.CRSDepTime.cast(db.Integer) > 759, cols.CRSDepTime.cast(db.Integer) < 900).all(),\n",
    "    \"9:00AM-9:59AM\": session.query(cols.CRSDepTime).filter(cols.ArrDelay.cast(db.Integer) >= 60, cols.CRSDepTime.cast(db.Integer) > 859, cols.CRSDepTime.cast(db.Integer) < 1000).all(),\n",
    "    \"10:00AM-10:59AM\": session.query(cols.CRSDepTime).filter(cols.ArrDelay.cast(db.Integer) >= 60, cols.CRSDepTime.cast(db.Integer) > 959, cols.CRSDepTime.cast(db.Integer) < 1100).all(),\n",
    "    \"11:00AM-11:59AM\": session.query(cols.CRSDepTime).filter(cols.ArrDelay.cast(db.Integer) >= 60, cols.CRSDepTime.cast(db.Integer) > 1059, cols.CRSDepTime.cast(db.Integer) < 1200).all(),\n",
    "    \"12:00PM-12:59PM\": session.query(cols.CRSDepTime).filter(cols.ArrDelay.cast(db.Integer) >= 60, cols.CRSDepTime.cast(db.Integer) > 1159, cols.CRSDepTime.cast(db.Integer) < 1300).all(),\n",
    "    \"1:00PM-1:59PM\": session.query(cols.CRSDepTime).filter(cols.ArrDelay.cast(db.Integer) >= 60, cols.CRSDepTime.cast(db.Integer) > 1259, cols.CRSDepTime.cast(db.Integer) < 1400).all(),\n",
    "    \"2:00PM-2:59PM\": session.query(cols.CRSDepTime).filter(cols.ArrDelay.cast(db.Integer) >= 60, cols.CRSDepTime.cast(db.Integer) > 1359, cols.CRSDepTime.cast(db.Integer) < 1500).all(),\n",
    "    \"3:00PM-3:59PM\": session.query(cols.CRSDepTime).filter(cols.ArrDelay.cast(db.Integer) >= 60, cols.CRSDepTime.cast(db.Integer) > 1459, cols.CRSDepTime.cast(db.Integer) < 1600).all(),\n",
    "    \"4:00PM-4:59PM\": session.query(cols.CRSDepTime).filter(cols.ArrDelay.cast(db.Integer) >= 60, cols.CRSDepTime.cast(db.Integer) > 1559, cols.CRSDepTime.cast(db.Integer) < 1700).all(),\n",
    "    \"5:00PM-5:59PM\": session.query(cols.CRSDepTime).filter(cols.ArrDelay.cast(db.Integer) >= 60, cols.CRSDepTime.cast(db.Integer) > 1659, cols.CRSDepTime.cast(db.Integer) < 1800).all(),\n",
    "    \"6:00PM-6:59PM\": session.query(cols.CRSDepTime).filter(cols.ArrDelay.cast(db.Integer) >= 60, cols.CRSDepTime.cast(db.Integer) > 1759, cols.CRSDepTime.cast(db.Integer) < 1900).all(),\n",
    "    \"7:00PM-7:59PM\": session.query(cols.CRSDepTime).filter(cols.ArrDelay.cast(db.Integer) >= 60, cols.CRSDepTime.cast(db.Integer) > 1859, cols.CRSDepTime.cast(db.Integer) < 2000).all(),\n",
    "    \"8:00PM-8:59PM\": session.query(cols.CRSDepTime).filter(cols.ArrDelay.cast(db.Integer) >= 60, cols.CRSDepTime.cast(db.Integer) > 1959, cols.CRSDepTime.cast(db.Integer) < 2100).all(),\n",
    "    \"9:00PM-9:59PM\": session.query(cols.CRSDepTime).filter(cols.ArrDelay.cast(db.Integer) >= 60, cols.CRSDepTime.cast(db.Integer) > 2059, cols.CRSDepTime.cast(db.Integer) < 2200).all(),\n",
    "    \"10:00PM-10:59PM\": session.query(cols.CRSDepTime).filter(cols.ArrDelay.cast(db.Integer) >= 60, cols.CRSDepTime.cast(db.Integer) > 2159, cols.CRSDepTime.cast(db.Integer) < 2300).all(),\n",
    "    \"11:00PM-11:59PM\": session.query(cols.CRSDepTime).filter(cols.ArrDelay.cast(db.Integer) >= 60, cols.CRSDepTime.cast(db.Integer) > 2259).all()\n",
    "}"
   ]
  },
  {
   "cell_type": "code",
   "execution_count": 9,
   "metadata": {},
   "outputs": [],
   "source": [
    "interval_totals = {}\n",
    "for key in intervals.keys():\n",
    "    interval_totals[key] = len(intervals[key])"
   ]
  },
  {
   "cell_type": "code",
   "execution_count": 10,
   "metadata": {},
   "outputs": [
    {
     "data": {
      "text/plain": [
       "{'12:00AM-5:59AM': 12873,\n",
       " '6:00AM-6:59AM': 73622,\n",
       " '7:00AM-7:59AM': 99076,\n",
       " '8:00AM-8:59AM': 118969,\n",
       " '9:00AM-9:59AM': 126266,\n",
       " '10:00AM-10:59AM': 132097,\n",
       " '11:00AM-11:59AM': 153628,\n",
       " '12:00PM-12:59PM': 169337,\n",
       " '1:00PM-1:59PM': 209604,\n",
       " '2:00PM-2:59PM': 225156,\n",
       " '3:00PM-3:59PM': 257936,\n",
       " '4:00PM-4:59PM': 276554,\n",
       " '5:00PM-5:59PM': 363591,\n",
       " '6:00PM-6:59PM': 324189,\n",
       " '7:00PM-7:59PM': 310838,\n",
       " '8:00PM-8:59PM': 232540,\n",
       " '9:00PM-9:59PM': 147607,\n",
       " '10:00PM-10:59PM': 54167,\n",
       " '11:00PM-11:59PM': 17588}"
      ]
     },
     "execution_count": 10,
     "metadata": {},
     "output_type": "execute_result"
    }
   ],
   "source": [
    "interval_totals"
   ]
  },
  {
   "cell_type": "code",
   "execution_count": null,
   "metadata": {},
   "outputs": [],
   "source": []
  }
 ],
 "metadata": {
  "kernelspec": {
   "display_name": "Python 3",
   "language": "python",
   "name": "python3"
  },
  "language_info": {
   "codemirror_mode": {
    "name": "ipython",
    "version": 3
   },
   "file_extension": ".py",
   "mimetype": "text/x-python",
   "name": "python",
   "nbconvert_exporter": "python",
   "pygments_lexer": "ipython3",
   "version": "3.7.3"
  }
 },
 "nbformat": 4,
 "nbformat_minor": 2
}
